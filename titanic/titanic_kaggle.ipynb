{
 "cells": [
  {
   "cell_type": "markdown",
   "id": "a6d6a8ea-9b36-4d47-b2bd-ac1f4dad7c38",
   "metadata": {
    "tags": []
   },
   "source": [
    "# Titanic survival prediction for Kaggle competition\n",
    "\n",
    "There are different methods to approach a binary classification problem such as the _Titanic survival_, each of them with advantages depending on the dataset size and independent variables to be used:\n",
    "\n",
    "* Logistic regression is the most basic and popular classification algorithm.\n",
    "* K-nearest neighbours (KNN) groups data points based on simmilarities. \n",
    "* Support vector machine (SPV) \n",
    "* Decission tree makes decissions based on if-else\n",
    "* Neural network"
   ]
  },
  {
   "cell_type": "markdown",
   "id": "9fce564b-666d-488f-bc41-785ce29049d8",
   "metadata": {},
   "source": [
    "Import relevant libraries"
   ]
  },
  {
   "cell_type": "code",
   "execution_count": 1,
   "id": "55307329-e9f9-4db8-8915-7d92c33171d2",
   "metadata": {},
   "outputs": [],
   "source": [
    "import numpy as np # for linear algebra\n",
    "import pandas as pd # for data handling\n",
    "import matplotlib.pyplot as plt"
   ]
  },
  {
   "cell_type": "markdown",
   "id": "b85bd598-b81a-459e-a16d-40dc6d04c467",
   "metadata": {},
   "source": [
    "The data has been previoulsy split into train and test data. \n",
    "It is a better practice is to separate the data into train, dev and test samples in different proportions depending on dataset size; an usual split would be 10-10-80% respectively."
   ]
  },
  {
   "cell_type": "code",
   "execution_count": 2,
   "id": "3ff081fb-a850-4848-baed-612b33b62fc6",
   "metadata": {},
   "outputs": [],
   "source": [
    "#df_train = pd.read_csv(\"data/train.csv\", index_col='PassengerId')\n",
    "#df_test  = pd.read_csv(\"data/test.csv\", index_col='PassengerId')\n",
    "df       = pd.read_csv(\"data/train.csv\")\n",
    "df_test  = pd.read_csv(\"data/test.csv\")"
   ]
  },
  {
   "cell_type": "markdown",
   "id": "588d7504-152f-44ed-ab95-96216751e04e",
   "metadata": {},
   "source": [
    "## Data exploration and manipulating\n",
    "Let's explore the data to look at what kind of information we have, to see if there are any missing values or characters and standarize our sets."
   ]
  },
  {
   "cell_type": "code",
   "execution_count": 3,
   "id": "b04f2803-b6eb-4875-800c-a9e7555c4468",
   "metadata": {
    "collapsed": true,
    "jupyter": {
     "outputs_hidden": true
    },
    "tags": []
   },
   "outputs": [
    {
     "name": "stdout",
     "output_type": "stream",
     "text": [
      "Full train set tail\n",
      "      PassengerId  Survived  Pclass                                      Name  \\\n",
      "886          887         0       2                     Montvila, Rev. Juozas   \n",
      "887          888         1       1              Graham, Miss. Margaret Edith   \n",
      "888          889         0       3  Johnston, Miss. Catherine Helen \"Carrie\"   \n",
      "889          890         1       1                     Behr, Mr. Karl Howell   \n",
      "890          891         0       3                       Dooley, Mr. Patrick   \n",
      "\n",
      "        Sex   Age  SibSp  Parch      Ticket   Fare Cabin Embarked  \n",
      "886    male  27.0      0      0      211536  13.00   NaN        S  \n",
      "887  female  19.0      0      0      112053  30.00   B42        S  \n",
      "888  female   NaN      1      2  W./C. 6607  23.45   NaN        S  \n",
      "889    male  26.0      0      0      111369  30.00  C148        C  \n",
      "890    male  32.0      0      0      370376   7.75   NaN        Q  \n",
      "\n",
      "\n",
      "Test head\n",
      "    PassengerId  Pclass                                          Name     Sex  \\\n",
      "0          892       3                              Kelly, Mr. James    male   \n",
      "1          893       3              Wilkes, Mrs. James (Ellen Needs)  female   \n",
      "2          894       2                     Myles, Mr. Thomas Francis    male   \n",
      "3          895       3                              Wirz, Mr. Albert    male   \n",
      "4          896       3  Hirvonen, Mrs. Alexander (Helga E Lindqvist)  female   \n",
      "\n",
      "    Age  SibSp  Parch   Ticket     Fare Cabin Embarked  \n",
      "0  34.5      0      0   330911   7.8292   NaN        Q  \n",
      "1  47.0      1      0   363272   7.0000   NaN        S  \n",
      "2  62.0      0      0   240276   9.6875   NaN        Q  \n",
      "3  27.0      0      0   315154   8.6625   NaN        S  \n",
      "4  22.0      1      1  3101298  12.2875   NaN        S  \n"
     ]
    }
   ],
   "source": [
    "print('Full train set tail\\n', df.tail())\n",
    "print('\\n\\nTest head\\n', df_test.head())"
   ]
  },
  {
   "cell_type": "code",
   "execution_count": 4,
   "id": "744365dd-268f-4be4-bb6f-43b271828f22",
   "metadata": {
    "collapsed": true,
    "jupyter": {
     "outputs_hidden": true
    },
    "tags": []
   },
   "outputs": [
    {
     "name": "stdout",
     "output_type": "stream",
     "text": [
      "<class 'pandas.core.frame.DataFrame'>\n",
      "RangeIndex: 418 entries, 0 to 417\n",
      "Data columns (total 11 columns):\n",
      " #   Column       Non-Null Count  Dtype  \n",
      "---  ------       --------------  -----  \n",
      " 0   PassengerId  418 non-null    int64  \n",
      " 1   Pclass       418 non-null    int64  \n",
      " 2   Name         418 non-null    object \n",
      " 3   Sex          418 non-null    object \n",
      " 4   Age          332 non-null    float64\n",
      " 5   SibSp        418 non-null    int64  \n",
      " 6   Parch        418 non-null    int64  \n",
      " 7   Ticket       418 non-null    object \n",
      " 8   Fare         417 non-null    float64\n",
      " 9   Cabin        91 non-null     object \n",
      " 10  Embarked     418 non-null    object \n",
      "dtypes: float64(2), int64(4), object(5)\n",
      "memory usage: 36.0+ KB\n",
      "None\n",
      "\n",
      "\n",
      "        PassengerId      Pclass         Age       SibSp       Parch        Fare\n",
      "count   418.000000  418.000000  332.000000  418.000000  418.000000  417.000000\n",
      "mean   1100.500000    2.265550   30.272590    0.447368    0.392344   35.627188\n",
      "std     120.810458    0.841838   14.181209    0.896760    0.981429   55.907576\n",
      "min     892.000000    1.000000    0.170000    0.000000    0.000000    0.000000\n",
      "25%     996.250000    1.000000   21.000000    0.000000    0.000000    7.895800\n",
      "50%    1100.500000    3.000000   27.000000    0.000000    0.000000   14.454200\n",
      "75%    1204.750000    3.000000   39.000000    1.000000    0.000000   31.500000\n",
      "max    1309.000000    3.000000   76.000000    8.000000    9.000000  512.329200\n"
     ]
    }
   ],
   "source": [
    "#Print train info/summary\n",
    "print(df_test.info())\n",
    "print('\\n\\n', df_test.describe())"
   ]
  },
  {
   "cell_type": "code",
   "execution_count": 46,
   "id": "131565a9-0704-44da-b9c0-9b9b5bbdbcb5",
   "metadata": {},
   "outputs": [
    {
     "name": "stderr",
     "output_type": "stream",
     "text": [
      "No handles with labels found to put in legend.\n"
     ]
    },
    {
     "data": {
      "text/plain": [
       "<matplotlib.legend.Legend at 0x124acfac0>"
      ]
     },
     "execution_count": 46,
     "metadata": {},
     "output_type": "execute_result"
    },
    {
     "data": {
      "image/png": "[encoded data removed]",
      "text/plain": [
       "<Figure size 432x288 with 1 Axes>"
      ]
     },
     "metadata": {
      "needs_background": "light"
     },
     "output_type": "display_data"
    }
   ],
   "source": [
    "#ax = df_train[df_train['Survived'] == 1][0:50].plot(kind='scatter', x='Age', y='Sex', color='DarkBlue', label='Survived');\n",
    "#df_train[df_train['Survived'] == 0][0:50].plot(kind='scatter', x='Age', y='Sex', color='Yellow', label='Died', ax=ax);\n",
    "#plt.show()\n",
    "\n",
    "from mpl_toolkits import mplot3d\n",
    "\n",
    "fig = plt.figure()\n",
    "ax = plt.axes(projection='3d')\n",
    "ax.set_xlabel('Age')\n",
    "ax.set_ylabel('Sex')\n",
    "ax.set_zlabel('Class');\n",
    "\n",
    "scatter = ax.scatter3D(df[['Age']], df[['Sex']], df[['Pclass']], c=df[['Survived']])\n",
    "legend1 = ax.legend(*scatter.legend_elements(),loc=\"upper left\", title=\"Survived\")\n",
    "ax.add_artist(legend1)\n",
    "\n",
    "ax.legend(loc=\"upper right\")"
   ]
  },
  {
   "cell_type": "markdown",
   "id": "7915b48d-4869-4181-a9aa-838ee8751640",
   "metadata": {},
   "source": [
    "### Dealing with missing values"
   ]
  },
  {
   "cell_type": "markdown",
   "id": "7b21c8b6-b9ca-4a81-8681-23d04f7b668c",
   "metadata": {
    "jp-MarkdownHeadingCollapsed": true,
    "tags": []
   },
   "source": [
    "We see that 'Cabin' is obviously mostly NaN so let's get rid of that information. The ticket fare is reflected in the class 'Pclass' so we'll remove it too.\n",
    "It wouldn't hurt to leave that column as the dataset is small but we might work with larger samples in the future.\n",
    "For the other variables, we'd like to see how many different inputs there are so we can standarize the data."
   ]
  },
  {
   "cell_type": "code",
   "execution_count": 5,
   "id": "35eb9fb9-21d1-4626-a4f8-1b067297db63",
   "metadata": {},
   "outputs": [],
   "source": [
    "drop_columns = ['Cabin', 'Fare', 'Name', 'Ticket']\n",
    "df.drop(['Cabin', 'Fare', 'Name', 'Ticket'], axis=1, inplace=True)\n",
    "df_test.drop(['Cabin', 'Fare', 'Name', 'Ticket'], axis=1, inplace=True)\n",
    "#df_test.drop(columns=drop_columns, inplace=True)"
   ]
  },
  {
   "cell_type": "code",
   "execution_count": 16,
   "id": "7a5a8516-b2bd-4f6c-9147-ca30cc3fd194",
   "metadata": {
    "collapsed": true,
    "jupyter": {
     "outputs_hidden": true
    },
    "tags": []
   },
   "outputs": [
    {
     "name": "stdout",
     "output_type": "stream",
     "text": [
      "=== Unique TRAIN values ===\n",
      "\n",
      "Age\n",
      " [22.   38.   26.   35.     nan 54.    2.   27.   14.    4.   58.   20.\n",
      " 39.   55.   31.   34.   15.   28.    8.   19.   40.   66.   42.   21.\n",
      " 18.    3.    7.   49.   29.   65.   28.5   5.   11.   45.   17.   32.\n",
      " 16.   25.    0.83 30.   33.   23.   24.   46.   59.   71.   37.   47.\n",
      " 14.5  70.5  32.5  12.    9.   36.5  51.   55.5  40.5  44.    1.   61.\n",
      " 56.   50.   36.   45.5  20.5  62.   41.   52.   63.   23.5   0.92 43.\n",
      " 60.   10.   64.   13.   48.    0.75 53.   57.   80.   70.   24.5   6.\n",
      "  0.67 30.5   0.42 34.5  74.  ]\n",
      "\n",
      "Sex\n",
      " [0 1]\n",
      "\n",
      "Pclass\n",
      " [3 1 2]\n",
      "\n",
      "Survived\n",
      " [0 1]\n",
      "\n",
      "SibSp\n",
      " [1 0 3 4 2 5 8]\n",
      "\n",
      "Parch\n",
      " [0 1 2 5 3 4 6]\n",
      "\n",
      "\n",
      "=== Unique TEST values ===\n",
      "\n",
      "Age\n",
      " [34.5  47.   62.   27.   22.   14.   30.   26.   18.   21.     nan 46.\n",
      " 23.   63.   24.   35.   45.   55.    9.   48.   50.   22.5  41.   33.\n",
      " 18.5  25.   39.   60.   36.   20.   28.   10.   17.   32.   13.   31.\n",
      " 29.   28.5  32.5   6.   67.   49.    2.   76.   43.   16.    1.   12.\n",
      " 42.   53.   26.5  40.   61.   60.5   7.   15.   54.   64.   37.   34.\n",
      " 11.5   8.    0.33 38.   57.   40.5   0.92 19.   36.5   0.75  0.83 58.\n",
      "  0.17 59.   14.5  44.    5.   51.    3.   38.5 ]\n",
      "\n",
      "Sex\n",
      " [0 1]\n",
      "\n",
      "Pclass\n",
      " [3 2 1]\n",
      "\n",
      "SibSp\n",
      " [0 1 2 3 4 5 8]\n",
      "\n",
      "Parch\n",
      " [0 1 3 2 4 6 5 9]\n"
     ]
    },
    {
     "data": {
      "text/plain": [
       "0    549\n",
       "1    342\n",
       "Name: Survived, dtype: int64"
      ]
     },
     "execution_count": 16,
     "metadata": {},
     "output_type": "execute_result"
    }
   ],
   "source": [
    "#Print the unique values in the different train variables\n",
    "mycols = ['Age', 'Sex', 'Pclass', 'Survived', 'SibSp', 'Parch']\n",
    "mycols_test = ['Age', 'Sex', 'Pclass', 'SibSp', 'Parch']\n",
    "\n",
    "print('=== Unique TRAIN values ===')\n",
    "for col in mycols: \n",
    "    print('\\n'+col+'\\n', df[col].unique())\n",
    "    \n",
    "print('\\n\\n=== Unique TEST values ===')\n",
    "for col in mycols_test: \n",
    "    print('\\n'+col+'\\n', df_test[col].unique())\n",
    "    \n",
    "df['Survived'].value_counts()"
   ]
  },
  {
   "cell_type": "markdown",
   "id": "3c7e4087-d7f3-403d-910c-9d70a24ffb85",
   "metadata": {},
   "source": [
    "We notice that there are a few entries where the age data is missing. As the percentage of missing age values is not negligible (about 20%), we'll avoid loosing data by taking the following approaches: Split male from females and\n",
    "* Assign the mean of each gender ages\n",
    "* Assign the mode of the specific gender age"
   ]
  },
  {
   "cell_type": "code",
   "execution_count": 8,
   "id": "873184ea-c5d3-4c93-a668-9946ce7f780d",
   "metadata": {
    "collapsed": true,
    "jupyter": {
     "outputs_hidden": true
    },
    "tags": []
   },
   "outputs": [
    {
     "name": "stdout",
     "output_type": "stream",
     "text": [
      "Mean | Mode\n",
      "Male:  30.72664459161148  |  28.0\n",
      "Female:  27.915708812260537  |  24.0\n",
      "\n",
      "\n",
      "\n",
      "      PassengerId  Survived  Pclass  Sex        Age  SibSp  Parch Embarked\n",
      "0              1         0       3    0  27.915709      1      0        S\n",
      "1              2         1       1    1  38.000000      1      0        C\n",
      "2              3         1       3    1  26.000000      0      0        S\n",
      "3              4         1       1    1  35.000000      1      0        S\n",
      "4              5         0       3    0  27.915709      0      0        S\n",
      "..           ...       ...     ...  ...        ...    ...    ...      ...\n",
      "886          887         0       2    0  27.915709      0      0        S\n",
      "887          888         1       1    1  19.000000      0      0        S\n",
      "888          889         0       3    1  27.915709      1      2        S\n",
      "889          890         1       1    0  27.915709      0      0        C\n",
      "890          891         0       3    0  27.915709      0      0        Q\n",
      "\n",
      "[891 rows x 8 columns] \n",
      "\n",
      "\n",
      "      PassengerId  Survived  Pclass  Sex        Age  SibSp  Parch Embarked\n",
      "0              1         0       3    0  27.915709      1      0        S\n",
      "1              2         1       1    1  38.000000      1      0        C\n",
      "2              3         1       3    1  26.000000      0      0        S\n",
      "3              4         1       1    1  35.000000      1      0        S\n",
      "4              5         0       3    0  27.915709      0      0        S\n",
      "..           ...       ...     ...  ...        ...    ...    ...      ...\n",
      "886          887         0       2    0  27.915709      0      0        S\n",
      "887          888         1       1    1  19.000000      0      0        S\n",
      "888          889         0       3    1  27.915709      1      2        S\n",
      "889          890         1       1    0  27.915709      0      0        C\n",
      "890          891         0       3    0  27.915709      0      0        Q\n",
      "\n",
      "[891 rows x 8 columns]\n"
     ]
    }
   ],
   "source": [
    "from statistics import mean,mode\n",
    "\n",
    "#replace string sex with binary\n",
    "df['Sex'] = df['Sex'].replace(['male'],0)\n",
    "df['Sex'] = df['Sex'].replace(['female'],1)\n",
    "df_test['Sex'] = df_test['Sex'].replace(['male'],0)\n",
    "df_test['Sex'] = df_test['Sex'].replace(['female'],1)\n",
    "\n",
    "#change variable types\n",
    "df['Sex'] = df['Sex'].astype('int')\n",
    "df_test['Sex'] = df_test['Sex'].astype('int')\n",
    "#the _y_ colum needs to be an integer\n",
    "df['Survived'] = df['Survived'].astype('int')\n",
    "\n",
    "#define gender masks to compute values to use and to replace the 999s\n",
    "m_mask = (df['Sex'] == 0)\n",
    "f_mask = (df['Sex'] == 1)\n",
    "\n",
    "#get gender age means\n",
    "m_age_mean = df.loc[df['Sex'] == 0, 'Age'].mean()\n",
    "f_age_mean = df.loc[df['Sex'] == 1, 'Age'].mean()\n",
    "m_age_mode = mode(df.loc[df['Sex']==0, 'Age'])\n",
    "f_age_mode = mode(df.loc[df['Sex']==1, 'Age'])\n",
    "\n",
    "print('Mean | Mode')\n",
    "print('Male: ',  m_age_mean, ' | ', m_age_mode)\n",
    "print('Female: ',  f_age_mean, ' | ', f_age_mode)\n",
    "\n",
    "# make df copies\n",
    "df_mean = df.copy()\n",
    "df_mean_test = df_test.copy()\n",
    "df_mode = df.copy()\n",
    "df_mode_test = df_test.copy()\n",
    "\n",
    "# replace nulls with mean values\n",
    "df_mean['Age'].mask(df_mean['Sex'] == 0 & (df_mean['Age'].isnull()), m_age_mean, inplace=True)\n",
    "df_mean['Age'].mask(df_mean['Sex'] == 1 & (df_mean['Age'].isnull()), f_age_mean, inplace=True)\n",
    "df_mean_test['Age'].mask(df_mean_test['Sex'] == 1 & (df_mean_test['Age'].isna()), m_age_mean, inplace=True)\n",
    "df_mean_test['Age'].mask(df_mean_test['Sex'] == 0 & (df_mean_test['Age'].isna()), f_age_mean, inplace=True)\n",
    "# replace nulls with mode values\n",
    "df_mode['Age'].mask(df_mode['Sex'] == 0 & (df_mode['Age'].isnull()), m_age_mean, inplace=True)\n",
    "df_mode['Age'].mask(df_mode['Sex'] == 1 & (df_mode['Age'].isnull()), f_age_mean, inplace=True)\n",
    "df_mode_test['Age'].mask(df_mode_test['Sex'] == 1 & (df_mode_test['Age'].isna()), m_age_mean, inplace=True)\n",
    "df_mode_test['Age'].mask(df_mode_test['Sex'] == 0 & (df_mode_test['Age'].isna()), f_age_mean, inplace=True)\n",
    "\n",
    "print('\\n\\n\\n',df_mean, '\\n\\n\\n',df_mode)"
   ]
  },
  {
   "cell_type": "code",
   "execution_count": 37,
   "id": "39910a4c-e9e9-44ed-ad4c-b308d95206da",
   "metadata": {},
   "outputs": [
    {
     "data": {
      "text/plain": [
       "(array([18.,  6.,  8.,  5., 14., 38., 46., 44., 58., 40., 32., 27., 19.,\n",
       "        19., 23., 15.,  9.,  6.,  7.,  8.,  4.,  2.,  3.,  1.,  1.]),\n",
       " array([ 0.42  ,  3.6032,  6.7864,  9.9696, 13.1528, 16.336 , 19.5192,\n",
       "        22.7024, 25.8856, 29.0688, 32.252 , 35.4352, 38.6184, 41.8016,\n",
       "        44.9848, 48.168 , 51.3512, 54.5344, 57.7176, 60.9008, 64.084 ,\n",
       "        67.2672, 70.4504, 73.6336, 76.8168, 80.    ]),\n",
       " <BarContainer object of 25 artists>)"
      ]
     },
     "execution_count": 37,
     "metadata": {},
     "output_type": "execute_result"
    },
    {
     "data": {
      "image/png": "[encoded data removed]",
      "text/plain": [
       "<Figure size 432x288 with 1 Axes>"
      ]
     },
     "metadata": {
      "needs_background": "light"
     },
     "output_type": "display_data"
    }
   ],
   "source": [
    "plt.hist(df['Age'].mask(m_mask), bins=25, alpha = 0.3, color='blue')\n",
    "plt.hist(df['Age'].mask(f_mask), bins=25, alpha = 0.3, color='red')"
   ]
  },
  {
   "cell_type": "markdown",
   "id": "344d2982-def7-411f-ae53-bb188ca2e096",
   "metadata": {},
   "source": [
    "Let's define X and y in the datasets considering only the variables that we consider relevant to the prediction."
   ]
  },
  {
   "cell_type": "code",
   "execution_count": 20,
   "id": "7b7bb15c-b807-43dd-8c1b-7477802ea705",
   "metadata": {
    "tags": []
   },
   "outputs": [],
   "source": [
    "model_cols = ['Age','Sex','Pclass']\n",
    "\n",
    "X_mean = np.asarray(df_mean[model_cols])\n",
    "X_mode = np.asarray(df_mode[model_cols])\n",
    "\n",
    "y_mean = np.asarray(df_mean[['Survived']])\n",
    "y_mode = np.asarray(df_mode[['Survived']])\n",
    "\n",
    "X_mean_test = np.asarray(df_mean_test[model_cols])\n",
    "X_mode_test = np.asarray(df_mode_test[model_cols])"
   ]
  },
  {
   "cell_type": "markdown",
   "id": "cd4e9b9b-6923-4359-86e2-33151a62c4bb",
   "metadata": {},
   "source": [
    "## Normalization"
   ]
  },
  {
   "cell_type": "markdown",
   "id": "91a4a68f-0e85-41f4-bdb3-e9c75dd40b66",
   "metadata": {},
   "source": [
    "We also need to scale the data"
   ]
  },
  {
   "cell_type": "code",
   "execution_count": 23,
   "id": "b47852ee-bc5c-4fcb-a456-51c6a86a59b8",
   "metadata": {},
   "outputs": [
    {
     "data": {
      "text/plain": [
       "array([[ 2.63337315e-17, -7.37695132e-01,  8.27377244e-01],\n",
       "       [ 1.32301886e+00,  1.35557354e+00, -1.56610693e+00],\n",
       "       [-2.51333369e-01,  1.35557354e+00,  8.27377244e-01],\n",
       "       [ 9.29430800e-01,  1.35557354e+00, -1.56610693e+00],\n",
       "       [ 2.63337315e-17, -7.37695132e-01,  8.27377244e-01]])"
      ]
     },
     "execution_count": 23,
     "metadata": {},
     "output_type": "execute_result"
    }
   ],
   "source": [
    "from sklearn import preprocessing\n",
    "\n",
    "X_mode = preprocessing.StandardScaler().fit(X_mode).transform(X_mode)\n",
    "X_mean = preprocessing.StandardScaler().fit(X_mean).transform(X_mean)\n",
    "X_mode_test = preprocessing.StandardScaler().fit(X_mode_test).transform(X_mode_test)\n",
    "X_mean_test = preprocessing.StandardScaler().fit(X_mean_test).transform(X_mean_test)\n",
    "\n",
    "X_mode[0:5]\n",
    "X_mean[0:5]"
   ]
  },
  {
   "cell_type": "markdown",
   "id": "25f98bf4-6981-40f0-ada1-b4f1d1850700",
   "metadata": {},
   "source": [
    "### Data split"
   ]
  },
  {
   "cell_type": "code",
   "execution_count": 24,
   "id": "e06379ad-eb3a-482c-8f4e-2530c66726dd",
   "metadata": {},
   "outputs": [
    {
     "name": "stdout",
     "output_type": "stream",
     "text": [
      "Train set: (712, 3) (712,)\n",
      "Dev set: (179, 3) (179,)\n"
     ]
    }
   ],
   "source": [
    "from sklearn.model_selection import train_test_split\n",
    "\n",
    "X_mean_train, X_mean_dev, y_mean_train, y_mean_dev = train_test_split( X_mean, y_mean, test_size=0.2, random_state=4)\n",
    "X_mode_train, X_mode_dev, y_mode_train, y_mode_dev = train_test_split( X_mode, y_mode, test_size=0.2, random_state=4)\n",
    "\n",
    "y_mean_train = y_mean_train.reshape(y_mean_train.shape[0],) # reshape to no second dimension. that's the input for the class label.\n",
    "y_mean_dev   = y_mean_dev.reshape(y_mean_dev.shape[0],) # reshape to no second dimension. that's the input for the class label.\n",
    "y_mode_train = y_mode_train.reshape(y_mode_train.shape[0],) # reshape to no second dimension. that's the input for the class label.\n",
    "y_mode_dev   = y_mode_dev.reshape(y_mode_dev.shape[0],) # reshape to no second dimension. that's the input for the class label.\n",
    "\n",
    "print ('Train set:', X_mean_train.shape,  y_mean_train.shape)\n",
    "print ('Dev set:', X_mean_dev.shape,  y_mean_dev.shape)"
   ]
  },
  {
   "cell_type": "markdown",
   "id": "a4cedb35-bafd-46ba-af20-9810efa8bae0",
   "metadata": {},
   "source": [
    "## Binary Classification\n",
    "\n",
    "### Logistic Regression"
   ]
  },
  {
   "cell_type": "code",
   "execution_count": 25,
   "id": "9217e70b-6311-4c4d-9253-cc423387b8ff",
   "metadata": {},
   "outputs": [
    {
     "data": {
      "text/html": [
       "<style>#sk-container-id-1 {color: black;background-color: white;}#sk-container-id-1 pre{padding: 0;}#sk-container-id-1 div.sk-toggleable {background-color: white;}#sk-container-id-1 label.sk-toggleable__label {cursor: pointer;display: block;width: 100%;margin-bottom: 0;padding: 0.3em;box-sizing: border-box;text-align: center;}#sk-container-id-1 label.sk-toggleable__label-arrow:before {content: \"▸\";float: left;margin-right: 0.25em;color: #696969;}#sk-container-id-1 label.sk-toggleable__label-arrow:hover:before {color: black;}#sk-container-id-1 div.sk-estimator:hover label.sk-toggleable__label-arrow:before {color: black;}#sk-container-id-1 div.sk-toggleable__content {max-height: 0;max-width: 0;overflow: hidden;text-align: left;background-color: #f0f8ff;}#sk-container-id-1 div.sk-toggleable__content pre {margin: 0.2em;color: black;border-radius: 0.25em;background-color: #f0f8ff;}#sk-container-id-1 input.sk-toggleable__control:checked~div.sk-toggleable__content {max-height: 200px;max-width: 100%;overflow: auto;}#sk-container-id-1 input.sk-toggleable__control:checked~label.sk-toggleable__label-arrow:before {content: \"▾\";}#sk-container-id-1 div.sk-estimator input.sk-toggleable__control:checked~label.sk-toggleable__label {background-color: #d4ebff;}#sk-container-id-1 div.sk-label input.sk-toggleable__control:checked~label.sk-toggleable__label {background-color: #d4ebff;}#sk-container-id-1 input.sk-hidden--visually {border: 0;clip: rect(1px 1px 1px 1px);clip: rect(1px, 1px, 1px, 1px);height: 1px;margin: -1px;overflow: hidden;padding: 0;position: absolute;width: 1px;}#sk-container-id-1 div.sk-estimator {font-family: monospace;background-color: #f0f8ff;border: 1px dotted black;border-radius: 0.25em;box-sizing: border-box;margin-bottom: 0.5em;}#sk-container-id-1 div.sk-estimator:hover {background-color: #d4ebff;}#sk-container-id-1 div.sk-parallel-item::after {content: \"\";width: 100%;border-bottom: 1px solid gray;flex-grow: 1;}#sk-container-id-1 div.sk-label:hover label.sk-toggleable__label {background-color: #d4ebff;}#sk-container-id-1 div.sk-serial::before {content: \"\";position: absolute;border-left: 1px solid gray;box-sizing: border-box;top: 0;bottom: 0;left: 50%;z-index: 0;}#sk-container-id-1 div.sk-serial {display: flex;flex-direction: column;align-items: center;background-color: white;padding-right: 0.2em;padding-left: 0.2em;position: relative;}#sk-container-id-1 div.sk-item {position: relative;z-index: 1;}#sk-container-id-1 div.sk-parallel {display: flex;align-items: stretch;justify-content: center;background-color: white;position: relative;}#sk-container-id-1 div.sk-item::before, #sk-container-id-1 div.sk-parallel-item::before {content: \"\";position: absolute;border-left: 1px solid gray;box-sizing: border-box;top: 0;bottom: 0;left: 50%;z-index: -1;}#sk-container-id-1 div.sk-parallel-item {display: flex;flex-direction: column;z-index: 1;position: relative;background-color: white;}#sk-container-id-1 div.sk-parallel-item:first-child::after {align-self: flex-end;width: 50%;}#sk-container-id-1 div.sk-parallel-item:last-child::after {align-self: flex-start;width: 50%;}#sk-container-id-1 div.sk-parallel-item:only-child::after {width: 0;}#sk-container-id-1 div.sk-dashed-wrapped {border: 1px dashed gray;margin: 0 0.4em 0.5em 0.4em;box-sizing: border-box;padding-bottom: 0.4em;background-color: white;}#sk-container-id-1 div.sk-label label {font-family: monospace;font-weight: bold;display: inline-block;line-height: 1.2em;}#sk-container-id-1 div.sk-label-container {text-align: center;}#sk-container-id-1 div.sk-container {/* jupyter's `normalize.less` sets `[hidden] { display: none; }` but bootstrap.min.css set `[hidden] { display: none !important; }` so we also need the `!important` here to be able to override the default hidden behavior on the sphinx rendered scikit-learn.org. See: https://github.com/scikit-learn/scikit-learn/issues/21755 */display: inline-block !important;position: relative;}#sk-container-id-1 div.sk-text-repr-fallback {display: none;}</style><div id=\"sk-container-id-1\" class=\"sk-top-container\"><div class=\"sk-text-repr-fallback\"><pre>LogisticRegression()</pre><b>In a Jupyter environment, please rerun this cell to show the HTML representation or trust the notebook. <br />On GitHub, the HTML representation is unable to render, please try loading this page with nbviewer.org.</b></div><div class=\"sk-container\" hidden><div class=\"sk-item\"><div class=\"sk-estimator sk-toggleable\"><input class=\"sk-toggleable__control sk-hidden--visually\" id=\"sk-estimator-id-1\" type=\"checkbox\" checked><label for=\"sk-estimator-id-1\" class=\"sk-toggleable__label sk-toggleable__label-arrow\">LogisticRegression</label><div class=\"sk-toggleable__content\"><pre>LogisticRegression()</pre></div></div></div></div></div>"
      ],
      "text/plain": [
       "LogisticRegression()"
      ]
     },
     "execution_count": 25,
     "metadata": {},
     "output_type": "execute_result"
    }
   ],
   "source": [
    "from sklearn import linear_model\n",
    "from sklearn.linear_model import LogisticRegression\n",
    "from sklearn.metrics import confusion_matrix\n",
    "import scipy.optimize as opt\n",
    "\n",
    "#LR = LogisticRegression(C=0.01, solver='liblinear').fit(X_train,y_train)\n",
    "lr_mean = LogisticRegression(solver='lbfgs').fit(X_mean_train,y_mean_train)\n",
    "lr_mode = LogisticRegression(solver='lbfgs').fit(X_mode_train,y_mode_train)\n",
    "\n",
    "lr_mean\n",
    "lr_mode"
   ]
  },
  {
   "cell_type": "markdown",
   "id": "b7a81269-9b80-4f62-a9fb-dd063031af5a",
   "metadata": {},
   "source": [
    "Now we predict using the test set"
   ]
  },
  {
   "cell_type": "code",
   "execution_count": 33,
   "id": "84f1a1ba-e16d-4865-9522-23c26967b87f",
   "metadata": {
    "tags": []
   },
   "outputs": [
    {
     "data": {
      "text/plain": [
       "array([0, 1, 0, 0, 1, 0, 1, 0, 1, 0, 0, 0, 1, 0, 1, 1, 0, 0, 1, 1, 0, 0,\n",
       "       1, 0, 1, 0, 1, 0, 0, 0, 0, 0, 1, 1, 0, 0, 1, 1, 0, 0, 0, 0, 0, 1,\n",
       "       1, 0, 0, 0, 1, 1, 0, 0, 1, 1, 0, 0, 0, 0, 0, 1, 0, 0, 0, 1, 0, 1,\n",
       "       1, 0, 0, 1, 1, 0, 1, 0, 1, 0, 0, 1, 0, 1, 0, 0, 0, 0, 0, 0, 1, 1,\n",
       "       1, 0, 1, 0, 1, 0, 0, 0, 1, 0, 1, 0, 1, 0, 0, 0, 1, 0, 0, 0, 0, 0,\n",
       "       0, 1, 1, 1, 1, 0, 0, 1, 0, 1, 1, 0, 1, 0, 0, 1, 0, 1, 0, 0, 0, 0,\n",
       "       1, 0, 0, 0, 0, 0, 1, 0, 1, 1, 0, 0, 0, 0, 0, 0, 0, 0, 1, 0, 0, 1,\n",
       "       0, 0, 1, 1, 0, 1, 1, 0, 1, 0, 0, 1, 0, 0, 1, 1, 0, 0, 0, 0, 0, 1,\n",
       "       1, 0, 1, 1, 0, 0, 1, 0, 1, 0, 1, 0, 1, 0, 0, 0, 0, 0, 0, 0, 0, 1,\n",
       "       0, 1, 1, 0, 0, 1, 0, 0, 1, 0, 1, 0, 0, 0, 0, 1, 1, 0, 1, 0, 1, 0,\n",
       "       1, 0, 1, 0, 1, 1, 0, 1, 0, 0, 0, 1, 0, 0, 0, 0, 0, 0, 1, 1, 1, 1,\n",
       "       0, 0, 0, 0, 1, 0, 1, 1, 1, 0, 0, 0, 0, 0, 0, 0, 1, 0, 0, 0, 1, 1,\n",
       "       0, 0, 0, 0, 1, 0, 0, 0, 1, 1, 0, 1, 0, 0, 0, 0, 1, 0, 1, 1, 1, 0,\n",
       "       0, 0, 0, 0, 0, 1, 0, 0, 0, 0, 1, 0, 0, 0, 0, 0, 0, 0, 1, 1, 0, 0,\n",
       "       0, 1, 0, 0, 0, 1, 1, 1, 0, 0, 0, 0, 0, 0, 0, 0, 1, 0, 1, 0, 0, 0,\n",
       "       1, 0, 0, 1, 0, 0, 0, 0, 0, 0, 0, 0, 0, 1, 0, 1, 0, 1, 0, 1, 1, 0,\n",
       "       0, 0, 1, 0, 1, 0, 0, 1, 0, 1, 1, 0, 1, 1, 0, 1, 1, 0, 0, 1, 0, 0,\n",
       "       1, 1, 1, 0, 0, 0, 0, 0, 1, 1, 0, 1, 0, 0, 0, 0, 0, 1, 0, 0, 0, 1,\n",
       "       0, 1, 0, 0, 1, 0, 1, 0, 0, 0, 0, 0, 1, 1, 1, 1, 1, 0, 1, 0, 0, 0])"
      ]
     },
     "execution_count": 33,
     "metadata": {},
     "output_type": "execute_result"
    }
   ],
   "source": [
    "yhat_mean_lr = lr_mean.predict(X_mean_test)\n",
    "yhat_mode_lr = lr_mode.predict(X_mode_test)\n",
    "\n",
    "yhat_mean_lr\n",
    "yhat_mode_lr"
   ]
  },
  {
   "cell_type": "markdown",
   "id": "807d5654-335d-4a26-8628-ad04563cea34",
   "metadata": {},
   "source": [
    "**predict_proba**  returns estimates for all classes (in our case 0 or 1), ordered by the label of classes. So, the first column is the probability of class 0, P(Y=0|X), and second column is probability of class 1, P(Y=1|X):"
   ]
  },
  {
   "cell_type": "code",
   "execution_count": 34,
   "id": "94d64839-d787-4577-a2e4-e6dd41f53521",
   "metadata": {
    "collapsed": true,
    "jupyter": {
     "outputs_hidden": true
    },
    "tags": []
   },
   "outputs": [
    {
     "data": {
      "text/plain": [
       "array([[0.90367826, 0.09632174],\n",
       "       [0.44756841, 0.55243159],\n",
       "       [0.78677542, 0.21322458],\n",
       "       [0.90367826, 0.09632174],\n",
       "       [0.4071096 , 0.5928904 ],\n",
       "       [0.90367826, 0.09632174],\n",
       "       [0.41994711, 0.58005289],\n",
       "       [0.78677542, 0.21322458],\n",
       "       [0.40073695, 0.59926305],\n",
       "       [0.90367826, 0.09632174],\n",
       "       [0.90367826, 0.09632174],\n",
       "       [0.59204226, 0.40795774],\n",
       "       [0.09659229, 0.90340771],\n",
       "       [0.78677542, 0.21322458],\n",
       "       [0.11136582, 0.88863418],\n",
       "       [0.21485999, 0.78514001],\n",
       "       [0.78677542, 0.21322458],\n",
       "       [0.90367826, 0.09632174],\n",
       "       [0.41511935, 0.58488065],\n",
       "       [0.44429857, 0.55570143],\n",
       "       [0.59204226, 0.40795774],\n",
       "       [0.90367826, 0.09632174],\n",
       "       [0.10114676, 0.89885324],\n",
       "       [0.59204226, 0.40795774],\n",
       "       [0.11202236, 0.88797764],\n",
       "       [0.90367826, 0.09632174],\n",
       "       [0.09601641, 0.90398359],\n",
       "       [0.90367826, 0.09632174],\n",
       "       [0.59204226, 0.40795774],\n",
       "       [0.90367826, 0.09632174],\n",
       "       [0.78677542, 0.21322458],\n",
       "       [0.78677542, 0.21322458],\n",
       "       [0.42479024, 0.57520976],\n",
       "       [0.42111882, 0.57888118],\n",
       "       [0.59204226, 0.40795774],\n",
       "       [0.90367826, 0.09632174],\n",
       "       [0.42111882, 0.57888118],\n",
       "       [0.40551342, 0.59448658],\n",
       "       [0.90367826, 0.09632174],\n",
       "       [0.90367826, 0.09632174],\n",
       "       [0.90367826, 0.09632174],\n",
       "       [0.59204226, 0.40795774],\n",
       "       [0.90367826, 0.09632174],\n",
       "       [0.2216334 , 0.7783666 ],\n",
       "       [0.11006285, 0.88993715],\n",
       "       [0.90367826, 0.09632174],\n",
       "       [0.59204226, 0.40795774],\n",
       "       [0.90367826, 0.09632174],\n",
       "       [0.12016769, 0.87983231],\n",
       "       [0.42964785, 0.57035215],\n",
       "       [0.59204226, 0.40795774],\n",
       "       [0.78677542, 0.21322458],\n",
       "       [0.21042862, 0.78957138],\n",
       "       [0.09951818, 0.90048182],\n",
       "       [0.78677542, 0.21322458],\n",
       "       [0.90367826, 0.09632174],\n",
       "       [0.90367826, 0.09632174],\n",
       "       [0.90367826, 0.09632174],\n",
       "       [0.90367826, 0.09632174],\n",
       "       [0.10436365, 0.89563635],\n",
       "       [0.90367826, 0.09632174],\n",
       "       [0.78677542, 0.21322458],\n",
       "       [0.90367826, 0.09632174],\n",
       "       [0.4071096 , 0.5928904 ],\n",
       "       [0.59204226, 0.40795774],\n",
       "       [0.22246399, 0.77753601],\n",
       "       [0.40073695, 0.59926305],\n",
       "       [0.59204226, 0.40795774],\n",
       "       [0.59204226, 0.40795774],\n",
       "       [0.12016769, 0.87983231],\n",
       "       [0.41030783, 0.58969217],\n",
       "       [0.90367826, 0.09632174],\n",
       "       [0.41833611, 0.58166389],\n",
       "       [0.59204226, 0.40795774],\n",
       "       [0.10374676, 0.89625324],\n",
       "       [0.59204226, 0.40795774],\n",
       "       [0.90367826, 0.09632174],\n",
       "       [0.11671338, 0.88328662],\n",
       "       [0.78677542, 0.21322458],\n",
       "       [0.41030783, 0.58969217],\n",
       "       [0.90367826, 0.09632174],\n",
       "       [0.59204226, 0.40795774],\n",
       "       [0.59204226, 0.40795774],\n",
       "       [0.90367826, 0.09632174],\n",
       "       [0.78677542, 0.21322458],\n",
       "       [0.90367826, 0.09632174],\n",
       "       [0.41511935, 0.58488065],\n",
       "       [0.40073695, 0.59926305],\n",
       "       [0.42111882, 0.57888118],\n",
       "       [0.78677542, 0.21322458],\n",
       "       [0.4071096 , 0.5928904 ],\n",
       "       [0.90367826, 0.09632174],\n",
       "       [0.09892677, 0.90107323],\n",
       "       [0.90367826, 0.09632174],\n",
       "       [0.59204226, 0.40795774],\n",
       "       [0.90367826, 0.09632174],\n",
       "       [0.13181906, 0.86818094],\n",
       "       [0.90367826, 0.09632174],\n",
       "       [0.40391923, 0.59608077],\n",
       "       [0.90367826, 0.09632174],\n",
       "       [0.10877325, 0.89122675],\n",
       "       [0.78677542, 0.21322458],\n",
       "       [0.90367826, 0.09632174],\n",
       "       [0.90367826, 0.09632174],\n",
       "       [0.39756303, 0.60243697],\n",
       "       [0.90367826, 0.09632174],\n",
       "       [0.90367826, 0.09632174],\n",
       "       [0.90367826, 0.09632174],\n",
       "       [0.90367826, 0.09632174],\n",
       "       [0.78677542, 0.21322458],\n",
       "       [0.78677542, 0.21322458],\n",
       "       [0.42111882, 0.57888118],\n",
       "       [0.10436365, 0.89563635],\n",
       "       [0.40153175, 0.59846825],\n",
       "       [0.12228238, 0.87771762],\n",
       "       [0.90367826, 0.09632174],\n",
       "       [0.90367826, 0.09632174],\n",
       "       [0.3740489 , 0.6259511 ],\n",
       "       [0.59204226, 0.40795774],\n",
       "       [0.22049397, 0.77950603],\n",
       "       [0.20176807, 0.79823193],\n",
       "       [0.90367826, 0.09632174],\n",
       "       [0.10374676, 0.89625324],\n",
       "       [0.90367826, 0.09632174],\n",
       "       [0.90367826, 0.09632174],\n",
       "       [0.39914893, 0.60085107],\n",
       "       [0.90367826, 0.09632174],\n",
       "       [0.42111882, 0.57888118],\n",
       "       [0.78677542, 0.21322458],\n",
       "       [0.90367826, 0.09632174],\n",
       "       [0.90367826, 0.09632174],\n",
       "       [0.59204226, 0.40795774],\n",
       "       [0.42111882, 0.57888118],\n",
       "       [0.90367826, 0.09632174],\n",
       "       [0.90367826, 0.09632174],\n",
       "       [0.90367826, 0.09632174],\n",
       "       [0.90367826, 0.09632174],\n",
       "       [0.78677542, 0.21322458],\n",
       "       [0.40870775, 0.59129225],\n",
       "       [0.90367826, 0.09632174],\n",
       "       [0.38809378, 0.61190622],\n",
       "       [0.10252264, 0.89747736],\n",
       "       [0.59204226, 0.40795774],\n",
       "       [0.78677542, 0.21322458],\n",
       "       [0.59204226, 0.40795774],\n",
       "       [0.90367826, 0.09632174],\n",
       "       [0.59204226, 0.40795774],\n",
       "       [0.90367826, 0.09632174],\n",
       "       [0.59204226, 0.40795774],\n",
       "       [0.78677542, 0.21322458],\n",
       "       [0.09659229, 0.90340771],\n",
       "       [0.90367826, 0.09632174],\n",
       "       [0.90367826, 0.09632174],\n",
       "       [0.42964785, 0.57035215],\n",
       "       [0.90367826, 0.09632174],\n",
       "       [0.90367826, 0.09632174],\n",
       "       [0.10011274, 0.89988726],\n",
       "       [0.40870775, 0.59129225],\n",
       "       [0.59204226, 0.40795774],\n",
       "       [0.41351367, 0.58648633],\n",
       "       [0.42111882, 0.57888118],\n",
       "       [0.90367826, 0.09632174],\n",
       "       [0.21710095, 0.78289905],\n",
       "       [0.90367826, 0.09632174],\n",
       "       [0.78677542, 0.21322458],\n",
       "       [0.41351367, 0.58648633],\n",
       "       [0.59204226, 0.40795774],\n",
       "       [0.90367826, 0.09632174],\n",
       "       [0.10114676, 0.89885324],\n",
       "       [0.4071096 , 0.5928904 ],\n",
       "       [0.90367826, 0.09632174],\n",
       "       [0.90367826, 0.09632174],\n",
       "       [0.90367826, 0.09632174],\n",
       "       [0.90367826, 0.09632174],\n",
       "       [0.90367826, 0.09632174],\n",
       "       [0.20498419, 0.79501581],\n",
       "       [0.21042862, 0.78957138],\n",
       "       [0.59204226, 0.40795774],\n",
       "       [0.22855817, 0.77144183],\n",
       "       [0.12299437, 0.87700563],\n",
       "       [0.78677542, 0.21322458],\n",
       "       [0.59204226, 0.40795774],\n",
       "       [0.09374347, 0.90625653],\n",
       "       [0.90367826, 0.09632174],\n",
       "       [0.09892677, 0.90107323],\n",
       "       [0.78677542, 0.21322458],\n",
       "       [0.21153014, 0.78846986],\n",
       "       [0.90367826, 0.09632174],\n",
       "       [0.42111882, 0.57888118],\n",
       "       [0.78677542, 0.21322458],\n",
       "       [0.78677542, 0.21322458],\n",
       "       [0.59204226, 0.40795774],\n",
       "       [0.90367826, 0.09632174],\n",
       "       [0.78677542, 0.21322458],\n",
       "       [0.78677542, 0.21322458],\n",
       "       [0.90367826, 0.09632174],\n",
       "       [0.59204226, 0.40795774],\n",
       "       [0.40073695, 0.59926305],\n",
       "       [0.78677542, 0.21322458],\n",
       "       [0.42111882, 0.57888118],\n",
       "       [0.42111882, 0.57888118],\n",
       "       [0.90367826, 0.09632174],\n",
       "       [0.59204226, 0.40795774],\n",
       "       [0.19753877, 0.80246123],\n",
       "       [0.78677542, 0.21322458],\n",
       "       [0.59204226, 0.40795774],\n",
       "       [0.4280271 , 0.5719729 ],\n",
       "       [0.78677542, 0.21322458],\n",
       "       [0.10252264, 0.89747736],\n",
       "       [0.90367826, 0.09632174],\n",
       "       [0.90367826, 0.09632174],\n",
       "       [0.90367826, 0.09632174],\n",
       "       [0.78677542, 0.21322458],\n",
       "       [0.25775675, 0.74224325],\n",
       "       [0.43289387, 0.56710613],\n",
       "       [0.59204226, 0.40795774],\n",
       "       [0.42111882, 0.57888118],\n",
       "       [0.59204226, 0.40795774],\n",
       "       [0.11334558, 0.88665442],\n",
       "       [0.90367826, 0.09632174],\n",
       "       [0.2216334 , 0.7783666 ],\n",
       "       [0.90367826, 0.09632174],\n",
       "       [0.21263588, 0.78736412],\n",
       "       [0.90367826, 0.09632174],\n",
       "       [0.11535596, 0.88464404],\n",
       "       [0.42111882, 0.57888118],\n",
       "       [0.90367826, 0.09632174],\n",
       "       [0.42111882, 0.57888118],\n",
       "       [0.90367826, 0.09632174],\n",
       "       [0.78677542, 0.21322458],\n",
       "       [0.78677542, 0.21322458],\n",
       "       [0.0954436 , 0.9045564 ],\n",
       "       [0.90367826, 0.09632174],\n",
       "       [0.90367826, 0.09632174],\n",
       "       [0.59204226, 0.40795774],\n",
       "       [0.90367826, 0.09632174],\n",
       "       [0.59204226, 0.40795774],\n",
       "       [0.90367826, 0.09632174],\n",
       "       [0.20823821, 0.79176179],\n",
       "       [0.11202236, 0.88797764],\n",
       "       [0.11671338, 0.88328662],\n",
       "       [0.23922796, 0.76077204],\n",
       "       [0.59204226, 0.40795774],\n",
       "       [0.90367826, 0.09632174],\n",
       "       [0.90367826, 0.09632174],\n",
       "       [0.59204226, 0.40795774],\n",
       "       [0.21263588, 0.78736412],\n",
       "       [0.78677542, 0.21322458],\n",
       "       [0.22049397, 0.77950603],\n",
       "       [0.42111882, 0.57888118],\n",
       "       [0.1902175 , 0.8097825 ],\n",
       "       [0.90367826, 0.09632174],\n",
       "       [0.59204226, 0.40795774],\n",
       "       [0.90367826, 0.09632174],\n",
       "       [0.90367826, 0.09632174],\n",
       "       [0.90367826, 0.09632174],\n",
       "       [0.90367826, 0.09632174],\n",
       "       [0.90367826, 0.09632174],\n",
       "       [0.20933131, 0.79066869],\n",
       "       [0.90367826, 0.09632174],\n",
       "       [0.90367826, 0.09632174],\n",
       "       [0.90367826, 0.09632174],\n",
       "       [0.22049397, 0.77950603],\n",
       "       [0.3740489 , 0.6259511 ],\n",
       "       [0.78677542, 0.21322458],\n",
       "       [0.90367826, 0.09632174],\n",
       "       [0.59204226, 0.40795774],\n",
       "       [0.90367826, 0.09632174],\n",
       "       [0.42111882, 0.57888118],\n",
       "       [0.90367826, 0.09632174],\n",
       "       [0.59204226, 0.40795774],\n",
       "       [0.90367826, 0.09632174],\n",
       "       [0.09833848, 0.90166152],\n",
       "       [0.42111882, 0.57888118],\n",
       "       [0.90367826, 0.09632174],\n",
       "       [0.21042862, 0.78957138],\n",
       "       [0.78677542, 0.21322458],\n",
       "       [0.78677542, 0.21322458],\n",
       "       [0.78677542, 0.21322458],\n",
       "       [0.78677542, 0.21322458],\n",
       "       [0.40870775, 0.59129225],\n",
       "       [0.90367826, 0.09632174],\n",
       "       [0.42111882, 0.57888118],\n",
       "       [0.38652355, 0.61347645],\n",
       "       [0.37559949, 0.62440051],\n",
       "       [0.90367826, 0.09632174],\n",
       "       [0.90367826, 0.09632174],\n",
       "       [0.59204226, 0.40795774],\n",
       "       [0.90367826, 0.09632174],\n",
       "       [0.90367826, 0.09632174],\n",
       "       [0.59204226, 0.40795774],\n",
       "       [0.41994711, 0.58005289],\n",
       "       [0.90367826, 0.09632174],\n",
       "       [0.59204226, 0.40795774],\n",
       "       [0.90367826, 0.09632174],\n",
       "       [0.90367826, 0.09632174],\n",
       "       [0.19029905, 0.80970095],\n",
       "       [0.90367826, 0.09632174],\n",
       "       [0.59204226, 0.40795774],\n",
       "       [0.90367826, 0.09632174],\n",
       "       [0.90367826, 0.09632174],\n",
       "       [0.78677542, 0.21322458],\n",
       "       [0.78677542, 0.21322458],\n",
       "       [0.90367826, 0.09632174],\n",
       "       [0.42111882, 0.57888118],\n",
       "       [0.12299437, 0.87700563],\n",
       "       [0.59204226, 0.40795774],\n",
       "       [0.90367826, 0.09632174],\n",
       "       [0.59204226, 0.40795774],\n",
       "       [0.44429857, 0.55570143],\n",
       "       [0.90367826, 0.09632174],\n",
       "       [0.90367826, 0.09632174],\n",
       "       [0.90367826, 0.09632174],\n",
       "       [0.43127012, 0.56872988],\n",
       "       [0.11671338, 0.88328662],\n",
       "       [0.39914893, 0.60085107],\n",
       "       [0.59204226, 0.40795774],\n",
       "       [0.78677542, 0.21322458],\n",
       "       [0.90367826, 0.09632174],\n",
       "       [0.78677542, 0.21322458],\n",
       "       [0.90367826, 0.09632174],\n",
       "       [0.90367826, 0.09632174],\n",
       "       [0.78677542, 0.21322458],\n",
       "       [0.59204226, 0.40795774],\n",
       "       [0.10623381, 0.89376619],\n",
       "       [0.90367826, 0.09632174],\n",
       "       [0.20176807, 0.79823193],\n",
       "       [0.59204226, 0.40795774],\n",
       "       [0.78677542, 0.21322458],\n",
       "       [0.78677542, 0.21322458],\n",
       "       [0.24285953, 0.75714047],\n",
       "       [0.59204226, 0.40795774],\n",
       "       [0.90367826, 0.09632174],\n",
       "       [0.40232706, 0.59767294],\n",
       "       [0.90367826, 0.09632174],\n",
       "       [0.59204226, 0.40795774],\n",
       "       [0.78677542, 0.21322458],\n",
       "       [0.90367826, 0.09632174],\n",
       "       [0.78677542, 0.21322458],\n",
       "       [0.90367826, 0.09632174],\n",
       "       [0.78677542, 0.21322458],\n",
       "       [0.90367826, 0.09632174],\n",
       "       [0.90367826, 0.09632174],\n",
       "       [0.11877549, 0.88122451],\n",
       "       [0.90367826, 0.09632174],\n",
       "       [0.39756303, 0.60243697],\n",
       "       [0.78677542, 0.21322458],\n",
       "       [0.43289387, 0.56710613],\n",
       "       [0.78677542, 0.21322458],\n",
       "       [0.22277702, 0.77722298],\n",
       "       [0.11006285, 0.88993715],\n",
       "       [0.78677542, 0.21322458],\n",
       "       [0.78677542, 0.21322458],\n",
       "       [0.78677542, 0.21322458],\n",
       "       [0.37276388, 0.62723612],\n",
       "       [0.59204226, 0.40795774],\n",
       "       [0.11946984, 0.88053016],\n",
       "       [0.90367826, 0.09632174],\n",
       "       [0.90367826, 0.09632174],\n",
       "       [0.41994711, 0.58005289],\n",
       "       [0.90367826, 0.09632174],\n",
       "       [0.21485999, 0.78514001],\n",
       "       [0.22277702, 0.77722298],\n",
       "       [0.90367826, 0.09632174],\n",
       "       [0.09775332, 0.90224668],\n",
       "       [0.42111882, 0.57888118],\n",
       "       [0.90367826, 0.09632174],\n",
       "       [0.4071096 , 0.5928904 ],\n",
       "       [0.11006285, 0.88993715],\n",
       "       [0.78677542, 0.21322458],\n",
       "       [0.78677542, 0.21322458],\n",
       "       [0.10131133, 0.89868867],\n",
       "       [0.59204226, 0.40795774],\n",
       "       [0.78677542, 0.21322458],\n",
       "       [0.11603295, 0.88396705],\n",
       "       [0.11006285, 0.88993715],\n",
       "       [0.4071096 , 0.5928904 ],\n",
       "       [0.78677542, 0.21322458],\n",
       "       [0.59204226, 0.40795774],\n",
       "       [0.90367826, 0.09632174],\n",
       "       [0.90367826, 0.09632174],\n",
       "       [0.90367826, 0.09632174],\n",
       "       [0.42111882, 0.57888118],\n",
       "       [0.40232706, 0.59767294],\n",
       "       [0.78677542, 0.21322458],\n",
       "       [0.21485999, 0.78514001],\n",
       "       [0.90367826, 0.09632174],\n",
       "       [0.78677542, 0.21322458],\n",
       "       [0.90367826, 0.09632174],\n",
       "       [0.90367826, 0.09632174],\n",
       "       [0.59204226, 0.40795774],\n",
       "       [0.11401229, 0.88598771],\n",
       "       [0.90367826, 0.09632174],\n",
       "       [0.78677542, 0.21322458],\n",
       "       [0.90367826, 0.09632174],\n",
       "       [0.09374347, 0.90625653],\n",
       "       [0.90367826, 0.09632174],\n",
       "       [0.11202236, 0.88797764],\n",
       "       [0.90367826, 0.09632174],\n",
       "       [0.90367826, 0.09632174],\n",
       "       [0.10071045, 0.89928955],\n",
       "       [0.78677542, 0.21322458],\n",
       "       [0.09601641, 0.90398359],\n",
       "       [0.59204226, 0.40795774],\n",
       "       [0.59204226, 0.40795774],\n",
       "       [0.78677542, 0.21322458],\n",
       "       [0.78677542, 0.21322458],\n",
       "       [0.59204226, 0.40795774],\n",
       "       [0.42111882, 0.57888118],\n",
       "       [0.37715263, 0.62284737],\n",
       "       [0.42111882, 0.57888118],\n",
       "       [0.10498379, 0.89501621],\n",
       "       [0.41672685, 0.58327315],\n",
       "       [0.90367826, 0.09632174],\n",
       "       [0.10623381, 0.89376619],\n",
       "       [0.90367826, 0.09632174],\n",
       "       [0.90367826, 0.09632174],\n",
       "       [0.90367826, 0.09632174]])"
      ]
     },
     "execution_count": 34,
     "metadata": {},
     "output_type": "execute_result"
    }
   ],
   "source": [
    "yprob_mean_lr = lr_mean.predict_proba(X_mean_test)\n",
    "yprob_mean_lr"
   ]
  },
  {
   "cell_type": "markdown",
   "id": "4635b091-d876-4cbf-9cd3-3c05366c3dbb",
   "metadata": {},
   "source": [
    "**Output prediction**"
   ]
  },
  {
   "cell_type": "code",
   "execution_count": 35,
   "id": "bde072b5-24ed-4369-a909-7d5dedad6c48",
   "metadata": {},
   "outputs": [],
   "source": [
    "yhat_mean_lr = pd.DataFrame(yhat_mean_lr)\n",
    "yhat_mean_lr.index +=892\n",
    "yhat_mean_lr.to_csv(\"pred_mean_lr.csv\")\n",
    "\n",
    "yhat_mode_lr = pd.DataFrame(yhat_mode_lr)\n",
    "yhat_mode_lr.index +=892\n",
    "yhat_mode_lr.to_csv(\"pred_mode_lr.csv\")"
   ]
  },
  {
   "cell_type": "markdown",
   "id": "0f248796-ecc1-46f7-a6f6-51839df2be8d",
   "metadata": {},
   "source": [
    "## K-Nearest Neighbours"
   ]
  },
  {
   "cell_type": "code",
   "execution_count": 38,
   "id": "cfc2689e-0cdb-4080-a29e-d2ed3e58b1c0",
   "metadata": {},
   "outputs": [
    {
     "data": {
      "text/html": [
       "<style>#sk-container-id-2 {color: black;background-color: white;}#sk-container-id-2 pre{padding: 0;}#sk-container-id-2 div.sk-toggleable {background-color: white;}#sk-container-id-2 label.sk-toggleable__label {cursor: pointer;display: block;width: 100%;margin-bottom: 0;padding: 0.3em;box-sizing: border-box;text-align: center;}#sk-container-id-2 label.sk-toggleable__label-arrow:before {content: \"▸\";float: left;margin-right: 0.25em;color: #696969;}#sk-container-id-2 label.sk-toggleable__label-arrow:hover:before {color: black;}#sk-container-id-2 div.sk-estimator:hover label.sk-toggleable__label-arrow:before {color: black;}#sk-container-id-2 div.sk-toggleable__content {max-height: 0;max-width: 0;overflow: hidden;text-align: left;background-color: #f0f8ff;}#sk-container-id-2 div.sk-toggleable__content pre {margin: 0.2em;color: black;border-radius: 0.25em;background-color: #f0f8ff;}#sk-container-id-2 input.sk-toggleable__control:checked~div.sk-toggleable__content {max-height: 200px;max-width: 100%;overflow: auto;}#sk-container-id-2 input.sk-toggleable__control:checked~label.sk-toggleable__label-arrow:before {content: \"▾\";}#sk-container-id-2 div.sk-estimator input.sk-toggleable__control:checked~label.sk-toggleable__label {background-color: #d4ebff;}#sk-container-id-2 div.sk-label input.sk-toggleable__control:checked~label.sk-toggleable__label {background-color: #d4ebff;}#sk-container-id-2 input.sk-hidden--visually {border: 0;clip: rect(1px 1px 1px 1px);clip: rect(1px, 1px, 1px, 1px);height: 1px;margin: -1px;overflow: hidden;padding: 0;position: absolute;width: 1px;}#sk-container-id-2 div.sk-estimator {font-family: monospace;background-color: #f0f8ff;border: 1px dotted black;border-radius: 0.25em;box-sizing: border-box;margin-bottom: 0.5em;}#sk-container-id-2 div.sk-estimator:hover {background-color: #d4ebff;}#sk-container-id-2 div.sk-parallel-item::after {content: \"\";width: 100%;border-bottom: 1px solid gray;flex-grow: 1;}#sk-container-id-2 div.sk-label:hover label.sk-toggleable__label {background-color: #d4ebff;}#sk-container-id-2 div.sk-serial::before {content: \"\";position: absolute;border-left: 1px solid gray;box-sizing: border-box;top: 0;bottom: 0;left: 50%;z-index: 0;}#sk-container-id-2 div.sk-serial {display: flex;flex-direction: column;align-items: center;background-color: white;padding-right: 0.2em;padding-left: 0.2em;position: relative;}#sk-container-id-2 div.sk-item {position: relative;z-index: 1;}#sk-container-id-2 div.sk-parallel {display: flex;align-items: stretch;justify-content: center;background-color: white;position: relative;}#sk-container-id-2 div.sk-item::before, #sk-container-id-2 div.sk-parallel-item::before {content: \"\";position: absolute;border-left: 1px solid gray;box-sizing: border-box;top: 0;bottom: 0;left: 50%;z-index: -1;}#sk-container-id-2 div.sk-parallel-item {display: flex;flex-direction: column;z-index: 1;position: relative;background-color: white;}#sk-container-id-2 div.sk-parallel-item:first-child::after {align-self: flex-end;width: 50%;}#sk-container-id-2 div.sk-parallel-item:last-child::after {align-self: flex-start;width: 50%;}#sk-container-id-2 div.sk-parallel-item:only-child::after {width: 0;}#sk-container-id-2 div.sk-dashed-wrapped {border: 1px dashed gray;margin: 0 0.4em 0.5em 0.4em;box-sizing: border-box;padding-bottom: 0.4em;background-color: white;}#sk-container-id-2 div.sk-label label {font-family: monospace;font-weight: bold;display: inline-block;line-height: 1.2em;}#sk-container-id-2 div.sk-label-container {text-align: center;}#sk-container-id-2 div.sk-container {/* jupyter's `normalize.less` sets `[hidden] { display: none; }` but bootstrap.min.css set `[hidden] { display: none !important; }` so we also need the `!important` here to be able to override the default hidden behavior on the sphinx rendered scikit-learn.org. See: https://github.com/scikit-learn/scikit-learn/issues/21755 */display: inline-block !important;position: relative;}#sk-container-id-2 div.sk-text-repr-fallback {display: none;}</style><div id=\"sk-container-id-2\" class=\"sk-top-container\"><div class=\"sk-text-repr-fallback\"><pre>KNeighborsClassifier()</pre><b>In a Jupyter environment, please rerun this cell to show the HTML representation or trust the notebook. <br />On GitHub, the HTML representation is unable to render, please try loading this page with nbviewer.org.</b></div><div class=\"sk-container\" hidden><div class=\"sk-item\"><div class=\"sk-estimator sk-toggleable\"><input class=\"sk-toggleable__control sk-hidden--visually\" id=\"sk-estimator-id-2\" type=\"checkbox\" checked><label for=\"sk-estimator-id-2\" class=\"sk-toggleable__label sk-toggleable__label-arrow\">KNeighborsClassifier</label><div class=\"sk-toggleable__content\"><pre>KNeighborsClassifier()</pre></div></div></div></div></div>"
      ],
      "text/plain": [
       "KNeighborsClassifier()"
      ]
     },
     "execution_count": 38,
     "metadata": {},
     "output_type": "execute_result"
    }
   ],
   "source": [
    "from sklearn.neighbors import KNeighborsClassifier\n",
    "\n",
    "#Train Model and Predict using 5 neighbours for now\n",
    "k = 5\n",
    "knn_mean = KNeighborsClassifier(n_neighbors = k).fit(X_mean_train,y_mean_train)\n",
    "knn_mode = KNeighborsClassifier(n_neighbors = k).fit(X_mode_train,y_mode_train)\n",
    "\n",
    "knn_mean\n",
    "knn_mode"
   ]
  },
  {
   "cell_type": "code",
   "execution_count": 40,
   "id": "53a504a5-2c05-45ae-9fa2-6ee21af22e10",
   "metadata": {},
   "outputs": [],
   "source": [
    "yhat_mean_knn = knn_mean.predict(X_mean_test)\n",
    "yhat_mode_knn = knn_mode.predict(X_mode_test)\n",
    "\n",
    "yhat_mean_knn\n",
    "yhat_mode_knn\n",
    "\n",
    "#output prediction\n",
    "yhat_mean_knn = pd.DataFrame(yhat_mean_knn)\n",
    "yhat_mean_knn.index +=892\n",
    "yhat_mean_knn.to_csv(\"pred_mean_knn.csv\")\n",
    "\n",
    "yhat_mode_knn = pd.DataFrame(yhat_mode_knn)\n",
    "yhat_mode_knn.index +=892\n",
    "yhat_mode_knn.to_csv(\"pred_mode_knn.csv\")"
   ]
  },
  {
   "cell_type": "markdown",
   "id": "5580ebb2-6b42-46e8-a32f-ab811655fd2e",
   "metadata": {},
   "source": [
    "## Support Vector Machine\n",
    "\n",
    "SVM works by mapping data to a high-dimensional feature space so that data points can be categorized, even when the data are not otherwise linearly separable. A separator between the categories is found, then the data is transformed in such a way that the separator could be drawn as a hyperplane. Following this, characteristics of new data can be used to predict the group to which a new record should belong."
   ]
  },
  {
   "cell_type": "code",
   "execution_count": 47,
   "id": "fbd0913d-19f5-412b-9783-4edc90e8744f",
   "metadata": {},
   "outputs": [
    {
     "data": {
      "text/html": [
       "<style>#sk-container-id-3 {color: black;background-color: white;}#sk-container-id-3 pre{padding: 0;}#sk-container-id-3 div.sk-toggleable {background-color: white;}#sk-container-id-3 label.sk-toggleable__label {cursor: pointer;display: block;width: 100%;margin-bottom: 0;padding: 0.3em;box-sizing: border-box;text-align: center;}#sk-container-id-3 label.sk-toggleable__label-arrow:before {content: \"▸\";float: left;margin-right: 0.25em;color: #696969;}#sk-container-id-3 label.sk-toggleable__label-arrow:hover:before {color: black;}#sk-container-id-3 div.sk-estimator:hover label.sk-toggleable__label-arrow:before {color: black;}#sk-container-id-3 div.sk-toggleable__content {max-height: 0;max-width: 0;overflow: hidden;text-align: left;background-color: #f0f8ff;}#sk-container-id-3 div.sk-toggleable__content pre {margin: 0.2em;color: black;border-radius: 0.25em;background-color: #f0f8ff;}#sk-container-id-3 input.sk-toggleable__control:checked~div.sk-toggleable__content {max-height: 200px;max-width: 100%;overflow: auto;}#sk-container-id-3 input.sk-toggleable__control:checked~label.sk-toggleable__label-arrow:before {content: \"▾\";}#sk-container-id-3 div.sk-estimator input.sk-toggleable__control:checked~label.sk-toggleable__label {background-color: #d4ebff;}#sk-container-id-3 div.sk-label input.sk-toggleable__control:checked~label.sk-toggleable__label {background-color: #d4ebff;}#sk-container-id-3 input.sk-hidden--visually {border: 0;clip: rect(1px 1px 1px 1px);clip: rect(1px, 1px, 1px, 1px);height: 1px;margin: -1px;overflow: hidden;padding: 0;position: absolute;width: 1px;}#sk-container-id-3 div.sk-estimator {font-family: monospace;background-color: #f0f8ff;border: 1px dotted black;border-radius: 0.25em;box-sizing: border-box;margin-bottom: 0.5em;}#sk-container-id-3 div.sk-estimator:hover {background-color: #d4ebff;}#sk-container-id-3 div.sk-parallel-item::after {content: \"\";width: 100%;border-bottom: 1px solid gray;flex-grow: 1;}#sk-container-id-3 div.sk-label:hover label.sk-toggleable__label {background-color: #d4ebff;}#sk-container-id-3 div.sk-serial::before {content: \"\";position: absolute;border-left: 1px solid gray;box-sizing: border-box;top: 0;bottom: 0;left: 50%;z-index: 0;}#sk-container-id-3 div.sk-serial {display: flex;flex-direction: column;align-items: center;background-color: white;padding-right: 0.2em;padding-left: 0.2em;position: relative;}#sk-container-id-3 div.sk-item {position: relative;z-index: 1;}#sk-container-id-3 div.sk-parallel {display: flex;align-items: stretch;justify-content: center;background-color: white;position: relative;}#sk-container-id-3 div.sk-item::before, #sk-container-id-3 div.sk-parallel-item::before {content: \"\";position: absolute;border-left: 1px solid gray;box-sizing: border-box;top: 0;bottom: 0;left: 50%;z-index: -1;}#sk-container-id-3 div.sk-parallel-item {display: flex;flex-direction: column;z-index: 1;position: relative;background-color: white;}#sk-container-id-3 div.sk-parallel-item:first-child::after {align-self: flex-end;width: 50%;}#sk-container-id-3 div.sk-parallel-item:last-child::after {align-self: flex-start;width: 50%;}#sk-container-id-3 div.sk-parallel-item:only-child::after {width: 0;}#sk-container-id-3 div.sk-dashed-wrapped {border: 1px dashed gray;margin: 0 0.4em 0.5em 0.4em;box-sizing: border-box;padding-bottom: 0.4em;background-color: white;}#sk-container-id-3 div.sk-label label {font-family: monospace;font-weight: bold;display: inline-block;line-height: 1.2em;}#sk-container-id-3 div.sk-label-container {text-align: center;}#sk-container-id-3 div.sk-container {/* jupyter's `normalize.less` sets `[hidden] { display: none; }` but bootstrap.min.css set `[hidden] { display: none !important; }` so we also need the `!important` here to be able to override the default hidden behavior on the sphinx rendered scikit-learn.org. See: https://github.com/scikit-learn/scikit-learn/issues/21755 */display: inline-block !important;position: relative;}#sk-container-id-3 div.sk-text-repr-fallback {display: none;}</style><div id=\"sk-container-id-3\" class=\"sk-top-container\"><div class=\"sk-text-repr-fallback\"><pre>SVC()</pre><b>In a Jupyter environment, please rerun this cell to show the HTML representation or trust the notebook. <br />On GitHub, the HTML representation is unable to render, please try loading this page with nbviewer.org.</b></div><div class=\"sk-container\" hidden><div class=\"sk-item\"><div class=\"sk-estimator sk-toggleable\"><input class=\"sk-toggleable__control sk-hidden--visually\" id=\"sk-estimator-id-3\" type=\"checkbox\" checked><label for=\"sk-estimator-id-3\" class=\"sk-toggleable__label sk-toggleable__label-arrow\">SVC</label><div class=\"sk-toggleable__content\"><pre>SVC()</pre></div></div></div></div></div>"
      ],
      "text/plain": [
       "SVC()"
      ]
     },
     "execution_count": 47,
     "metadata": {},
     "output_type": "execute_result"
    }
   ],
   "source": [
    "from sklearn import svm\n",
    "# use 'radial basic function'\n",
    "# linear, polynomial and sigmoid also exist\n",
    "svc_mean = svm.SVC(kernel='rbf').fit(X_mean_train, y_mean_train) \n",
    "svc_mode = svm.SVC(kernel='rbf').fit(X_mode_train, y_mode_train) \n",
    "\n",
    "svc_mean\n",
    "svc_mode"
   ]
  },
  {
   "cell_type": "code",
   "execution_count": 49,
   "id": "771d7e1d-008b-4f51-b572-fc42537f22b9",
   "metadata": {},
   "outputs": [],
   "source": [
    "yhat_mean_svc = svc_mean.predict(X_mean_test)\n",
    "yhat_mode_svc = svc_mode.predict(X_mode_test)\n",
    "\n",
    "yhat_mean_svc\n",
    "yhat_mode_svc\n",
    "\n",
    "#output prediction\n",
    "yhat_mean_svc = pd.DataFrame(yhat_mean_svc)\n",
    "yhat_mean_svc.index +=892\n",
    "yhat_mean_svc.to_csv(\"pred_mean_svc.csv\")\n",
    "\n",
    "yhat_mode_svc = pd.DataFrame(yhat_mode_svc)\n",
    "yhat_mode_svc.index +=892\n",
    "yhat_mode_svc.to_csv(\"pred_mode_svc.csv\")"
   ]
  },
  {
   "cell_type": "code",
   "execution_count": null,
   "id": "cd77177d-82c2-46bf-a3fd-a6a504459394",
   "metadata": {},
   "outputs": [],
   "source": []
  }
 ],
 "metadata": {
  "kernelspec": {
   "display_name": "Python 3 (ipykernel)",
   "language": "python",
   "name": "python3"
  },
  "language_info": {
   "codemirror_mode": {
    "name": "ipython",
    "version": 3
   },
   "file_extension": ".py",
   "mimetype": "text/x-python",
   "name": "python",
   "nbconvert_exporter": "python",
   "pygments_lexer": "ipython3",
   "version": "3.9.7"
  }
 },
 "nbformat": 4,
 "nbformat_minor": 5
}
