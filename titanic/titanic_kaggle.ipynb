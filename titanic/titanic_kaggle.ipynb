{
 "cells": [
  {
   "cell_type": "markdown",
   "id": "a6d6a8ea-9b36-4d47-b2bd-ac1f4dad7c38",
   "metadata": {
    "tags": []
   },
   "source": [
    "# Titanic survival prediction for Kaggle competition\n",
    "\n",
    "There are different methods to approach a binary classification problem such as the _Titanic survival_, each of them with advantages depending on the dataset size and independent variables to be used:\n",
    "\n",
    "* Logistic regression is the most basic and popular classification algorithm.\n",
    "* K-nearest neighbours (KNN) groups data points based on simmilarities. \n",
    "* Support vector machine (SPV) \n",
    "* Decission tree makes decissions based on if-else\n",
    "* Neural network"
   ]
  },
  {
   "cell_type": "markdown",
   "id": "9fce564b-666d-488f-bc41-785ce29049d8",
   "metadata": {},
   "source": [
    "Import relevant libraries"
   ]
  },
  {
   "cell_type": "code",
   "execution_count": 1,
   "id": "55307329-e9f9-4db8-8915-7d92c33171d2",
   "metadata": {},
   "outputs": [],
   "source": [
    "import numpy as np # for linear algebra\n",
    "import pandas as pd # for data handling\n",
    "import matplotlib.pyplot as plt"
   ]
  },
  {
   "cell_type": "markdown",
   "id": "b85bd598-b81a-459e-a16d-40dc6d04c467",
   "metadata": {},
   "source": [
    "The data has been previoulsy split into train and test data. \n",
    "It is a better practice is to separate the data into train, dev and test samples in different proportions depending on dataset size; an usual split would be 10-10-80% respectively."
   ]
  },
  {
   "cell_type": "code",
   "execution_count": 2,
   "id": "3ff081fb-a850-4848-baed-612b33b62fc6",
   "metadata": {
    "jupyter": {
     "source_hidden": true
    },
    "tags": []
   },
   "outputs": [],
   "source": [
    "#df_train = pd.read_csv(\"data/train.csv\", index_col='PassengerId')\n",
    "#df_test  = pd.read_csv(\"data/test.csv\", index_col='PassengerId')\n",
    "df       = pd.read_csv(\"data/train.csv\")\n",
    "df_test  = pd.read_csv(\"data/test.csv\")"
   ]
  },
  {
   "cell_type": "code",
   "execution_count": 3,
   "id": "b154f432-0b3d-4312-95a3-1602f5023143",
   "metadata": {},
   "outputs": [],
   "source": [
    "### FUNCTIONS TO EVENTUALLY MOVE ###\n",
    "from sklearn import metrics\n",
    "from sklearn import linear_model\n",
    "from sklearn.linear_model import LogisticRegression\n",
    "from sklearn.metrics import confusion_matrix\n",
    "from sklearn.neighbors import KNeighborsClassifier\n",
    "from sklearn import svm\n",
    "# use 'radial basic function'\n",
    "# linear, polynomial and sigmoid also exist\n",
    "\n",
    "import scipy.optimize as opt\n",
    "\n",
    "\n",
    "def print_accuracy(y,yhat,message):\n",
    "    print(message, metrics.accuracy_score(y, yhat))\n",
    "\n",
    "def fit_predict(x_train,y_train,x_dev,y_dev,x_test,model,solver):\n",
    "    \n",
    "    if model=='knn':\n",
    "        k=int(solver)\n",
    "        fit = KNeighborsClassifier(n_neighbors = k).fit(x_train,y_train)\n",
    "\n",
    "    if model=='svc':\n",
    "        fit = svm.SVC(kernel=solver).fit(x_train,y_train)\n",
    "        \n",
    "    if model=='lr':\n",
    "        fit = LogisticRegression(C=0.01, solver=solver).fit(x_train,y_train)\n",
    "\n",
    "    pred = fit.predict(x_test)\n",
    "    print_accuracy(y_dev,fit.predict(x_dev),'Accuracy '+ model + ' ' + solver)\n",
    "\n",
    "    return pred\n",
    "\n",
    "def write_prediction(prediction,outname):\n",
    "    df=pd.DataFrame(prediction)\n",
    "    df.insert(0,'',range(892,1310,1),True) \n",
    "    df.columns=['PassengerId','Survived']\n",
    "    df.to_csv(outname,index=False)\n"
   ]
  },
  {
   "cell_type": "markdown",
   "id": "588d7504-152f-44ed-ab95-96216751e04e",
   "metadata": {},
   "source": [
    "## Data exploration and manipulating\n",
    "Let's explore the data to look at what kind of information we have, to see if there are any missing values or characters and standarize our sets."
   ]
  },
  {
   "cell_type": "code",
   "execution_count": 4,
   "id": "b04f2803-b6eb-4875-800c-a9e7555c4468",
   "metadata": {
    "tags": []
   },
   "outputs": [
    {
     "name": "stdout",
     "output_type": "stream",
     "text": [
      "Full train set tail\n",
      "      PassengerId  Survived  Pclass                                      Name  \\\n",
      "886          887         0       2                     Montvila, Rev. Juozas   \n",
      "887          888         1       1              Graham, Miss. Margaret Edith   \n",
      "888          889         0       3  Johnston, Miss. Catherine Helen \"Carrie\"   \n",
      "889          890         1       1                     Behr, Mr. Karl Howell   \n",
      "890          891         0       3                       Dooley, Mr. Patrick   \n",
      "\n",
      "        Sex   Age  SibSp  Parch      Ticket   Fare Cabin Embarked  \n",
      "886    male  27.0      0      0      211536  13.00   NaN        S  \n",
      "887  female  19.0      0      0      112053  30.00   B42        S  \n",
      "888  female   NaN      1      2  W./C. 6607  23.45   NaN        S  \n",
      "889    male  26.0      0      0      111369  30.00  C148        C  \n",
      "890    male  32.0      0      0      370376   7.75   NaN        Q  \n",
      "\n",
      "\n",
      "Test head\n",
      "    PassengerId  Pclass                                          Name     Sex  \\\n",
      "0          892       3                              Kelly, Mr. James    male   \n",
      "1          893       3              Wilkes, Mrs. James (Ellen Needs)  female   \n",
      "2          894       2                     Myles, Mr. Thomas Francis    male   \n",
      "3          895       3                              Wirz, Mr. Albert    male   \n",
      "4          896       3  Hirvonen, Mrs. Alexander (Helga E Lindqvist)  female   \n",
      "\n",
      "    Age  SibSp  Parch   Ticket     Fare Cabin Embarked  \n",
      "0  34.5      0      0   330911   7.8292   NaN        Q  \n",
      "1  47.0      1      0   363272   7.0000   NaN        S  \n",
      "2  62.0      0      0   240276   9.6875   NaN        Q  \n",
      "3  27.0      0      0   315154   8.6625   NaN        S  \n",
      "4  22.0      1      1  3101298  12.2875   NaN        S  \n"
     ]
    }
   ],
   "source": [
    "print('Full train set tail\\n', df.tail())\n",
    "print('\\n\\nTest head\\n', df_test.head())"
   ]
  },
  {
   "cell_type": "code",
   "execution_count": 5,
   "id": "744365dd-268f-4be4-bb6f-43b271828f22",
   "metadata": {
    "tags": []
   },
   "outputs": [
    {
     "name": "stdout",
     "output_type": "stream",
     "text": [
      "<class 'pandas.core.frame.DataFrame'>\n",
      "RangeIndex: 418 entries, 0 to 417\n",
      "Data columns (total 11 columns):\n",
      " #   Column       Non-Null Count  Dtype  \n",
      "---  ------       --------------  -----  \n",
      " 0   PassengerId  418 non-null    int64  \n",
      " 1   Pclass       418 non-null    int64  \n",
      " 2   Name         418 non-null    object \n",
      " 3   Sex          418 non-null    object \n",
      " 4   Age          332 non-null    float64\n",
      " 5   SibSp        418 non-null    int64  \n",
      " 6   Parch        418 non-null    int64  \n",
      " 7   Ticket       418 non-null    object \n",
      " 8   Fare         417 non-null    float64\n",
      " 9   Cabin        91 non-null     object \n",
      " 10  Embarked     418 non-null    object \n",
      "dtypes: float64(2), int64(4), object(5)\n",
      "memory usage: 36.0+ KB\n",
      "None\n",
      "\n",
      "\n",
      "        PassengerId      Pclass         Age       SibSp       Parch        Fare\n",
      "count   418.000000  418.000000  332.000000  418.000000  418.000000  417.000000\n",
      "mean   1100.500000    2.265550   30.272590    0.447368    0.392344   35.627188\n",
      "std     120.810458    0.841838   14.181209    0.896760    0.981429   55.907576\n",
      "min     892.000000    1.000000    0.170000    0.000000    0.000000    0.000000\n",
      "25%     996.250000    1.000000   21.000000    0.000000    0.000000    7.895800\n",
      "50%    1100.500000    3.000000   27.000000    0.000000    0.000000   14.454200\n",
      "75%    1204.750000    3.000000   39.000000    1.000000    0.000000   31.500000\n",
      "max    1309.000000    3.000000   76.000000    8.000000    9.000000  512.329200\n"
     ]
    }
   ],
   "source": [
    "#Print train info/summary\n",
    "print(df_test.info())\n",
    "print('\\n\\n', df_test.describe())"
   ]
  },
  {
   "cell_type": "code",
   "execution_count": 6,
   "id": "131565a9-0704-44da-b9c0-9b9b5bbdbcb5",
   "metadata": {},
   "outputs": [
    {
     "data": {
      "text/plain": [
       "<matplotlib.legend.Legend at 0x1275bd6a0>"
      ]
     },
     "execution_count": 6,
     "metadata": {},
     "output_type": "execute_result"
    },
    {
     "data": {
      "image/png": "[encoded data removed]",
      "text/plain": [
       "<Figure size 432x288 with 1 Axes>"
      ]
     },
     "metadata": {
      "needs_background": "light"
     },
     "output_type": "display_data"
    }
   ],
   "source": [
    "#replace string sex with binary\n",
    "df['Sex'] = df['Sex'].replace(['male'],0)\n",
    "df['Sex'] = df['Sex'].replace(['female'],1)\n",
    "df_test['Sex'] = df_test['Sex'].replace(['male'],0)\n",
    "df_test['Sex'] = df_test['Sex'].replace(['female'],1)\n",
    "\n",
    "#change variable types\n",
    "df['Sex'] = df['Sex'].astype('int')\n",
    "df_test['Sex'] = df_test['Sex'].astype('int')\n",
    "#the _y_ colum needs to be an integer\n",
    "df['Survived'] = df['Survived'].astype('int')\n",
    "\n",
    "from mpl_toolkits import mplot3d\n",
    "\n",
    "fig = plt.figure()\n",
    "ax = plt.axes(projection='3d')\n",
    "ax.set_xlabel('Age')\n",
    "ax.set_ylabel('Sex')\n",
    "ax.set_zlabel('Class');\n",
    "\n",
    "scatter = ax.scatter3D(df[['Age']], df[['Sex']], df[['Pclass']], c=df[['Survived']])\n",
    "legend1 = ax.legend(*scatter.legend_elements(),loc=\"upper left\", title=\"Survived\")\n",
    "ax.add_artist(legend1)"
   ]
  },
  {
   "cell_type": "markdown",
   "id": "7915b48d-4869-4181-a9aa-838ee8751640",
   "metadata": {},
   "source": [
    "### Dealing with missing values"
   ]
  },
  {
   "cell_type": "markdown",
   "id": "7b21c8b6-b9ca-4a81-8681-23d04f7b668c",
   "metadata": {
    "jp-MarkdownHeadingCollapsed": true,
    "tags": []
   },
   "source": [
    "We see that 'Cabin' is obviously mostly NaN so let's get rid of that information. The ticket fare is reflected in the class 'Pclass' so we'll remove it too.\n",
    "It wouldn't hurt to leave that column as the dataset is small but we might work with larger samples in the future.\n",
    "For the other variables, we'd like to see how many different inputs there are so we can standarize the data."
   ]
  },
  {
   "cell_type": "code",
   "execution_count": 7,
   "id": "35eb9fb9-21d1-4626-a4f8-1b067297db63",
   "metadata": {},
   "outputs": [],
   "source": [
    "drop_columns = ['Cabin', 'Fare', 'Name', 'Ticket']\n",
    "df.drop(['Cabin', 'Fare', 'Name', 'Ticket'], axis=1, inplace=True)\n",
    "df_test.drop(['Cabin', 'Fare', 'Name', 'Ticket'], axis=1, inplace=True)\n",
    "#df_test.drop(columns=drop_columns, inplace=True)"
   ]
  },
  {
   "cell_type": "code",
   "execution_count": 8,
   "id": "7a5a8516-b2bd-4f6c-9147-ca30cc3fd194",
   "metadata": {
    "tags": []
   },
   "outputs": [
    {
     "name": "stdout",
     "output_type": "stream",
     "text": [
      "=== Unique TRAIN values ===\n",
      "\n",
      "Age\n",
      " [22.   38.   26.   35.     nan 54.    2.   27.   14.    4.   58.   20.\n",
      " 39.   55.   31.   34.   15.   28.    8.   19.   40.   66.   42.   21.\n",
      " 18.    3.    7.   49.   29.   65.   28.5   5.   11.   45.   17.   32.\n",
      " 16.   25.    0.83 30.   33.   23.   24.   46.   59.   71.   37.   47.\n",
      " 14.5  70.5  32.5  12.    9.   36.5  51.   55.5  40.5  44.    1.   61.\n",
      " 56.   50.   36.   45.5  20.5  62.   41.   52.   63.   23.5   0.92 43.\n",
      " 60.   10.   64.   13.   48.    0.75 53.   57.   80.   70.   24.5   6.\n",
      "  0.67 30.5   0.42 34.5  74.  ]\n",
      "\n",
      "Sex\n",
      " [0 1]\n",
      "\n",
      "Pclass\n",
      " [3 1 2]\n",
      "\n",
      "Survived\n",
      " [0 1]\n",
      "\n",
      "SibSp\n",
      " [1 0 3 4 2 5 8]\n",
      "\n",
      "Parch\n",
      " [0 1 2 5 3 4 6]\n",
      "\n",
      "\n",
      "=== Unique TEST values ===\n",
      "\n",
      "Age\n",
      " [34.5  47.   62.   27.   22.   14.   30.   26.   18.   21.     nan 46.\n",
      " 23.   63.   24.   35.   45.   55.    9.   48.   50.   22.5  41.   33.\n",
      " 18.5  25.   39.   60.   36.   20.   28.   10.   17.   32.   13.   31.\n",
      " 29.   28.5  32.5   6.   67.   49.    2.   76.   43.   16.    1.   12.\n",
      " 42.   53.   26.5  40.   61.   60.5   7.   15.   54.   64.   37.   34.\n",
      " 11.5   8.    0.33 38.   57.   40.5   0.92 19.   36.5   0.75  0.83 58.\n",
      "  0.17 59.   14.5  44.    5.   51.    3.   38.5 ]\n",
      "\n",
      "Sex\n",
      " [0 1]\n",
      "\n",
      "Pclass\n",
      " [3 2 1]\n",
      "\n",
      "SibSp\n",
      " [0 1 2 3 4 5 8]\n",
      "\n",
      "Parch\n",
      " [0 1 3 2 4 6 5 9]\n"
     ]
    },
    {
     "data": {
      "text/plain": [
       "0    549\n",
       "1    342\n",
       "Name: Survived, dtype: int64"
      ]
     },
     "execution_count": 8,
     "metadata": {},
     "output_type": "execute_result"
    }
   ],
   "source": [
    "#Print the unique values in the different train variables\n",
    "mycols = ['Age', 'Sex', 'Pclass', 'Survived', 'SibSp', 'Parch']\n",
    "mycols_test = ['Age', 'Sex', 'Pclass', 'SibSp', 'Parch']\n",
    "\n",
    "print('=== Unique TRAIN values ===')\n",
    "for col in mycols: \n",
    "    print('\\n'+col+'\\n', df[col].unique())\n",
    "    \n",
    "print('\\n\\n=== Unique TEST values ===')\n",
    "for col in mycols_test: \n",
    "    print('\\n'+col+'\\n', df_test[col].unique())\n",
    "    \n",
    "df['Survived'].value_counts()"
   ]
  },
  {
   "cell_type": "markdown",
   "id": "3c7e4087-d7f3-403d-910c-9d70a24ffb85",
   "metadata": {},
   "source": [
    "We notice that there are a few entries where the age data is missing. As the percentage of missing age values is not negligible (about 20%), we'll avoid loosing data by taking the following approaches: Split male from females and\n",
    "* Assign the mean of each gender ages\n",
    "* Assign the mode of the specific gender age"
   ]
  },
  {
   "cell_type": "code",
   "execution_count": 9,
   "id": "873184ea-c5d3-4c93-a668-9946ce7f780d",
   "metadata": {
    "tags": []
   },
   "outputs": [
    {
     "name": "stdout",
     "output_type": "stream",
     "text": [
      "Mean | Mode\n",
      "Male:  30.72664459161148  |  28.0\n",
      "Female:  27.915708812260537  |  24.0\n",
      "\n",
      "\n",
      "\n",
      "      PassengerId  Survived  Pclass  Sex        Age  SibSp  Parch Embarked\n",
      "0              1         0       3    0  27.915709      1      0        S\n",
      "1              2         1       1    1  38.000000      1      0        C\n",
      "2              3         1       3    1  26.000000      0      0        S\n",
      "3              4         1       1    1  35.000000      1      0        S\n",
      "4              5         0       3    0  27.915709      0      0        S\n",
      "..           ...       ...     ...  ...        ...    ...    ...      ...\n",
      "886          887         0       2    0  27.915709      0      0        S\n",
      "887          888         1       1    1  19.000000      0      0        S\n",
      "888          889         0       3    1  27.915709      1      2        S\n",
      "889          890         1       1    0  27.915709      0      0        C\n",
      "890          891         0       3    0  27.915709      0      0        Q\n",
      "\n",
      "[891 rows x 8 columns] \n",
      "\n",
      "\n",
      "      PassengerId  Survived  Pclass  Sex        Age  SibSp  Parch Embarked\n",
      "0              1         0       3    0  27.915709      1      0        S\n",
      "1              2         1       1    1  38.000000      1      0        C\n",
      "2              3         1       3    1  26.000000      0      0        S\n",
      "3              4         1       1    1  35.000000      1      0        S\n",
      "4              5         0       3    0  27.915709      0      0        S\n",
      "..           ...       ...     ...  ...        ...    ...    ...      ...\n",
      "886          887         0       2    0  27.915709      0      0        S\n",
      "887          888         1       1    1  19.000000      0      0        S\n",
      "888          889         0       3    1  27.915709      1      2        S\n",
      "889          890         1       1    0  27.915709      0      0        C\n",
      "890          891         0       3    0  27.915709      0      0        Q\n",
      "\n",
      "[891 rows x 8 columns]\n"
     ]
    }
   ],
   "source": [
    "from statistics import mean,mode\n",
    "\n",
    "#define gender masks to compute values to use and to replace the 999s\n",
    "m_mask = (df['Sex'] == 0)\n",
    "f_mask = (df['Sex'] == 1)\n",
    "\n",
    "#get gender age means\n",
    "m_age_mean = df.loc[df['Sex'] == 0, 'Age'].mean()\n",
    "f_age_mean = df.loc[df['Sex'] == 1, 'Age'].mean()\n",
    "m_age_mode = mode(df.loc[df['Sex']==0, 'Age'])\n",
    "f_age_mode = mode(df.loc[df['Sex']==1, 'Age'])\n",
    "\n",
    "print('Mean | Mode')\n",
    "print('Male: ',  m_age_mean, ' | ', m_age_mode)\n",
    "print('Female: ',  f_age_mean, ' | ', f_age_mode)\n",
    "\n",
    "# make df copies\n",
    "df_drop = df[df.Age.notnull()]\n",
    "df_drop_test = df_test[df_test.Age.notnull()]\n",
    "df_mean = df.copy()\n",
    "df_mean_test = df_test.copy()\n",
    "df_mode = df.copy()\n",
    "df_mode_test = df_test.copy()\n",
    "\n",
    "# replace nulls with mean values\n",
    "df_mean['Age'].mask(df_mean['Sex'] == 0 & (df_mean['Age'].isnull()), m_age_mean, inplace=True)\n",
    "df_mean['Age'].mask(df_mean['Sex'] == 1 & (df_mean['Age'].isnull()), f_age_mean, inplace=True)\n",
    "df_mean_test['Age'].mask(df_mean_test['Sex'] == 1 & (df_mean_test['Age'].isna()), m_age_mean, inplace=True)\n",
    "df_mean_test['Age'].mask(df_mean_test['Sex'] == 0 & (df_mean_test['Age'].isna()), f_age_mean, inplace=True)\n",
    "# replace nulls with mode values\n",
    "df_mode['Age'].mask(df_mode['Sex'] == 0 & (df_mode['Age'].isnull()), m_age_mean, inplace=True)\n",
    "df_mode['Age'].mask(df_mode['Sex'] == 1 & (df_mode['Age'].isnull()), f_age_mean, inplace=True)\n",
    "df_mode_test['Age'].mask(df_mode_test['Sex'] == 1 & (df_mode_test['Age'].isna()), m_age_mean, inplace=True)\n",
    "df_mode_test['Age'].mask(df_mode_test['Sex'] == 0 & (df_mode_test['Age'].isna()), f_age_mean, inplace=True)\n",
    "\n",
    "print('\\n\\n\\n',df_mean, '\\n\\n\\n',df_mode)"
   ]
  },
  {
   "cell_type": "code",
   "execution_count": 10,
   "id": "39910a4c-e9e9-44ed-ad4c-b308d95206da",
   "metadata": {},
   "outputs": [
    {
     "data": {
      "text/plain": [
       "(array([18.,  6.,  8.,  5., 14., 38., 46., 44., 58., 40., 32., 27., 19.,\n",
       "        19., 23., 15.,  9.,  6.,  7.,  8.,  4.,  2.,  3.,  1.,  1.]),\n",
       " array([ 0.42  ,  3.6032,  6.7864,  9.9696, 13.1528, 16.336 , 19.5192,\n",
       "        22.7024, 25.8856, 29.0688, 32.252 , 35.4352, 38.6184, 41.8016,\n",
       "        44.9848, 48.168 , 51.3512, 54.5344, 57.7176, 60.9008, 64.084 ,\n",
       "        67.2672, 70.4504, 73.6336, 76.8168, 80.    ]),\n",
       " <BarContainer object of 25 artists>)"
      ]
     },
     "execution_count": 10,
     "metadata": {},
     "output_type": "execute_result"
    },
    {
     "data": {
      "image/png": "[encoded data removed]",
      "text/plain": [
       "<Figure size 432x288 with 1 Axes>"
      ]
     },
     "metadata": {
      "needs_background": "light"
     },
     "output_type": "display_data"
    }
   ],
   "source": [
    "plt.hist(df['Age'].mask(m_mask), bins=25, alpha = 0.3, color='blue')\n",
    "plt.hist(df['Age'].mask(f_mask), bins=25, alpha = 0.3, color='red')"
   ]
  },
  {
   "cell_type": "markdown",
   "id": "344d2982-def7-411f-ae53-bb188ca2e096",
   "metadata": {},
   "source": [
    "Let's define X and y in the datasets considering only the variables that we consider relevant to the prediction."
   ]
  },
  {
   "cell_type": "code",
   "execution_count": 11,
   "id": "7b7bb15c-b807-43dd-8c1b-7477802ea705",
   "metadata": {
    "tags": []
   },
   "outputs": [],
   "source": [
    "model_cols = ['Age','Sex','Pclass']\n",
    "\n",
    "X_drop = np.asarray(df_drop[model_cols])\n",
    "X_mean = np.asarray(df_mean[model_cols])\n",
    "X_mode = np.asarray(df_mode[model_cols])\n",
    "\n",
    "y_drop = np.asarray(df_drop[['Survived']])\n",
    "y_mean = np.asarray(df_mean[['Survived']])\n",
    "y_mode = np.asarray(df_mode[['Survived']])\n",
    "\n",
    "X_drop_test = np.asarray(df_drop_test[model_cols])\n",
    "X_mean_test = np.asarray(df_mean_test[model_cols])\n",
    "X_mode_test = np.asarray(df_mode_test[model_cols])"
   ]
  },
  {
   "cell_type": "markdown",
   "id": "cd4e9b9b-6923-4359-86e2-33151a62c4bb",
   "metadata": {},
   "source": [
    "## Normalization"
   ]
  },
  {
   "cell_type": "markdown",
   "id": "91a4a68f-0e85-41f4-bdb3-e9c75dd40b66",
   "metadata": {},
   "source": [
    "We also need to scale the data"
   ]
  },
  {
   "cell_type": "code",
   "execution_count": 12,
   "id": "b47852ee-bc5c-4fcb-a456-51c6a86a59b8",
   "metadata": {},
   "outputs": [
    {
     "data": {
      "text/plain": [
       "array([[-4.66101891e-16, -7.37695132e-01,  8.27377244e-01],\n",
       "       [ 1.32301886e+00,  1.35557354e+00, -1.56610693e+00],\n",
       "       [-2.51333369e-01,  1.35557354e+00,  8.27377244e-01],\n",
       "       [ 9.29430800e-01,  1.35557354e+00, -1.56610693e+00],\n",
       "       [-4.66101891e-16, -7.37695132e-01,  8.27377244e-01]])"
      ]
     },
     "execution_count": 12,
     "metadata": {},
     "output_type": "execute_result"
    }
   ],
   "source": [
    "from sklearn import preprocessing\n",
    "\n",
    "X_drop = preprocessing.StandardScaler().fit(X_drop).transform(X_drop)\n",
    "X_mode = preprocessing.StandardScaler().fit(X_mode).transform(X_mode)\n",
    "X_mean = preprocessing.StandardScaler().fit(X_mean).transform(X_mean)\n",
    "X_drop_test = preprocessing.StandardScaler().fit(X_mode_test).transform(X_drop_test)\n",
    "X_mode_test = preprocessing.StandardScaler().fit(X_mode_test).transform(X_mode_test)\n",
    "X_mean_test = preprocessing.StandardScaler().fit(X_mean_test).transform(X_mean_test)\n",
    "\n",
    "X_mode[0:5]\n",
    "X_mean[0:5]"
   ]
  },
  {
   "cell_type": "markdown",
   "id": "25f98bf4-6981-40f0-ada1-b4f1d1850700",
   "metadata": {},
   "source": [
    "### Data split"
   ]
  },
  {
   "cell_type": "code",
   "execution_count": 13,
   "id": "e06379ad-eb3a-482c-8f4e-2530c66726dd",
   "metadata": {},
   "outputs": [
    {
     "name": "stdout",
     "output_type": "stream",
     "text": [
      "Train set: (712, 3) (712,)\n",
      "Dev set: (179, 3) (179,)\n"
     ]
    }
   ],
   "source": [
    "from sklearn.model_selection import train_test_split\n",
    "\n",
    "X_drop_train, X_drop_dev, y_drop_train, y_drop_dev = train_test_split( X_drop, y_drop, test_size=0.2, random_state=4)\n",
    "X_mean_train, X_mean_dev, y_mean_train, y_mean_dev = train_test_split( X_mean, y_mean, test_size=0.2, random_state=4)\n",
    "X_mode_train, X_mode_dev, y_mode_train, y_mode_dev = train_test_split( X_mode, y_mode, test_size=0.2, random_state=4)\n",
    "\n",
    "y_drop_train = y_drop_train.reshape(y_drop_train.shape[0],) # reshape to no second dimension. that's the input for the class label.\n",
    "y_drop_dev   = y_drop_dev.reshape(y_drop_dev.shape[0],) # reshape to no second dimension. that's the input for the class label.\n",
    "y_mean_train = y_mean_train.reshape(y_mean_train.shape[0],) # reshape to no second dimension. that's the input for the class label.\n",
    "y_mean_dev   = y_mean_dev.reshape(y_mean_dev.shape[0],) # reshape to no second dimension. that's the input for the class label.\n",
    "y_mode_train = y_mode_train.reshape(y_mode_train.shape[0],) # reshape to no second dimension. that's the input for the class label.\n",
    "y_mode_dev   = y_mode_dev.reshape(y_mode_dev.shape[0],) # reshape to no second dimension. that's the input for the class label.\n",
    "\n",
    "print ('Train set:', X_mean_train.shape,  y_mean_train.shape)\n",
    "print ('Dev set:', X_mean_dev.shape,  y_mean_dev.shape)"
   ]
  },
  {
   "cell_type": "markdown",
   "id": "a4cedb35-bafd-46ba-af20-9810efa8bae0",
   "metadata": {},
   "source": [
    "## Binary Classification\n",
    "\n",
    "Three models will be implemented to predict the survival of titanic passengers. \n",
    "The _train_ data set will be split into test and dev sets, and the test set will be used to compute the accuracy of each model.\n",
    "\n",
    "In binary classification problems, the accuracy score (correctly classified set size / test set size) is equal to the jaccard_score function (intersection over union). Essentially, it calculates how closely the actual labels and predicted labels are matched in the test set.\n",
    "from sklearn import metrics"
   ]
  },
  {
   "cell_type": "markdown",
   "id": "fe4f6ad1-b9e3-4a0b-a662-bca81679945c",
   "metadata": {},
   "source": [
    "### Logistic Regression"
   ]
  },
  {
   "cell_type": "code",
   "execution_count": 14,
   "id": "9217e70b-6311-4c4d-9253-cc423387b8ff",
   "metadata": {},
   "outputs": [
    {
     "name": "stdout",
     "output_type": "stream",
     "text": [
      "Accuracy lr lbfgs 0.8100558659217877\n",
      "Accuracy lr lbfgs 0.8100558659217877\n"
     ]
    }
   ],
   "source": [
    "yhat_mean_lr = fit_predict(X_mean_train, y_mean_train, X_mean_dev, y_mean_dev, X_mean_test,'lr','lbfgs')\n",
    "yhat_mode_lr = fit_predict(X_mode_train, y_mode_train, X_mode_dev, y_mode_dev, X_mode_test,'lr','lbfgs')"
   ]
  },
  {
   "cell_type": "markdown",
   "id": "807d5654-335d-4a26-8628-ad04563cea34",
   "metadata": {},
   "source": [
    "**predict_proba**  returns estimates for all classes (in our case 0 or 1), ordered by the label of classes. So, the first column is the probability of class 0, P(Y=0|X), and second column is probability of class 1, P(Y=1|X):"
   ]
  },
  {
   "cell_type": "code",
   "execution_count": 15,
   "id": "94d64839-d787-4577-a2e4-e6dd41f53521",
   "metadata": {
    "tags": []
   },
   "outputs": [],
   "source": [
    "#yprob_mean_lr = lr_mean.predict_proba(X_mean_test)\n",
    "#yprob_mean_lr"
   ]
  },
  {
   "cell_type": "markdown",
   "id": "4635b091-d876-4cbf-9cd3-3c05366c3dbb",
   "metadata": {},
   "source": [
    "**Output prediction**"
   ]
  },
  {
   "cell_type": "code",
   "execution_count": 16,
   "id": "bde072b5-24ed-4369-a909-7d5dedad6c48",
   "metadata": {},
   "outputs": [],
   "source": [
    "write_prediction(yhat_mean_lr,'pred_mean_lr.csv')\n",
    "write_prediction(yhat_mode_lr,'pred_mode_lr.csv')"
   ]
  },
  {
   "cell_type": "markdown",
   "id": "0f248796-ecc1-46f7-a6f6-51839df2be8d",
   "metadata": {},
   "source": [
    "## K-Nearest Neighbours"
   ]
  },
  {
   "cell_type": "code",
   "execution_count": 17,
   "id": "cfc2689e-0cdb-4080-a29e-d2ed3e58b1c0",
   "metadata": {},
   "outputs": [
    {
     "name": "stdout",
     "output_type": "stream",
     "text": [
      "Accuracy knn 5 0.8547486033519553\n",
      "Accuracy knn 5 0.8547486033519553\n"
     ]
    }
   ],
   "source": [
    "from sklearn.neighbors import KNeighborsClassifier\n",
    "\n",
    "#Train Model and Predict using 5 neighbours for now\n",
    "yhat_mean_knn = fit_predict(X_mean_train, y_mean_train, X_mean_dev, y_mean_dev, X_mean_test,'knn','5')\n",
    "yhat_mode_knn = fit_predict(X_mode_train, y_mode_train, X_mode_dev, y_mode_dev, X_mode_test,'knn','5')"
   ]
  },
  {
   "cell_type": "code",
   "execution_count": 18,
   "id": "3b4ccec4-3fdb-4d3d-8626-3737d2d13193",
   "metadata": {},
   "outputs": [],
   "source": [
    "#output prediction\n",
    "write_prediction(yhat_mean_knn,'pred_mean_knn.csv')\n",
    "write_prediction(yhat_mode_knn,'pred_mode_knn.csv')"
   ]
  },
  {
   "cell_type": "markdown",
   "id": "a95a61a8-0264-4fd2-aa80-d7c852b5508d",
   "metadata": {},
   "source": [
    "The accuracy is about 85% which is higher than the other two models. Could we imporve it further by changing the number of neighbours?"
   ]
  },
  {
   "cell_type": "code",
   "execution_count": 19,
   "id": "65dbc614-3f9b-48da-99c9-e3129c13443b",
   "metadata": {},
   "outputs": [
    {
     "name": "stdout",
     "output_type": "stream",
     "text": [
      "mean acc:  [0.82122905 0.82122905 0.82122905 0.82122905 0.82122905 0.82122905\n",
      " 0.82122905 0.82122905 0.82122905]\n",
      "srt acc:  [0.01489505 0.01489505 0.01489505 0.01489505 0.01489505 0.01489505\n",
      " 0.01489505 0.01489505 0.01489505]\n"
     ]
    }
   ],
   "source": [
    "nk = 10\n",
    "mean_acc = np.zeros((nk-1))\n",
    "std_acc  = np.zeros((nk-1))\n",
    "\n",
    "for n in range(1,nk):\n",
    "    \n",
    "    #Train Model and Predict\n",
    "    # given that we're getting exactly same accuracies with mean and mode, lets only test on one\n",
    "    neigh = KNeighborsClassifier(n_neighbors = nk).fit(X_mean_train,y_mean_train)\n",
    "    yhat  = neigh.predict(X_mean_train)\n",
    "    \n",
    "    mean_acc[n-1] = metrics.accuracy_score(y_mean_dev, neigh.predict(X_mean_dev))\n",
    "    std_acc[n-1] = np.std(yhat==y_mean_train)/np.sqrt(yhat.shape[0])\n",
    "\n",
    "print('mean acc: ', mean_acc)\n",
    "print('srt acc: ', std_acc)"
   ]
  },
  {
   "cell_type": "markdown",
   "id": "5580ebb2-6b42-46e8-a32f-ab811655fd2e",
   "metadata": {},
   "source": [
    "## Support Vector Machine\n",
    "\n",
    "SVM works by mapping data to a high-dimensional feature space so that data points can be categorized, even when the data are not otherwise linearly separable. A separator between the categories is found, then the data is transformed in such a way that the separator could be drawn as a hyperplane. Following this, characteristics of new data can be used to predict the group to which a new record should belong."
   ]
  },
  {
   "cell_type": "code",
   "execution_count": 20,
   "id": "fbd0913d-19f5-412b-9783-4edc90e8744f",
   "metadata": {},
   "outputs": [
    {
     "name": "stdout",
     "output_type": "stream",
     "text": [
      "Accuracy svc rbf 0.8100558659217877\n",
      "Accuracy svc rbf 0.8100558659217877\n"
     ]
    }
   ],
   "source": [
    "yhat_mean_svc = fit_predict(X_mean_train, y_mean_train, X_mean_dev, y_mean_dev, X_mean_test,'svc','rbf')\n",
    "yhat_mode_svc = fit_predict(X_mode_train, y_mode_train, X_mode_dev, y_mode_dev, X_mode_test,'svc','rbf')"
   ]
  },
  {
   "cell_type": "code",
   "execution_count": 21,
   "id": "771d7e1d-008b-4f51-b572-fc42537f22b9",
   "metadata": {},
   "outputs": [],
   "source": [
    "#output prediction\n",
    "write_prediction(yhat_mode_svc,'pred_mean_svc.csv')\n",
    "write_prediction(yhat_mode_svc,'pred_mode_svc.csv')"
   ]
  },
  {
   "cell_type": "code",
   "execution_count": null,
   "id": "a77d8a13-1be8-4625-b36e-868b6d8b3241",
   "metadata": {},
   "outputs": [],
   "source": []
  }
 ],
 "metadata": {
  "kernelspec": {
   "display_name": "Python 3 (ipykernel)",
   "language": "python",
   "name": "python3"
  },
  "language_info": {
   "codemirror_mode": {
    "name": "ipython",
    "version": 3
   },
   "file_extension": ".py",
   "mimetype": "text/x-python",
   "name": "python",
   "nbconvert_exporter": "python",
   "pygments_lexer": "ipython3",
   "version": "3.9.7"
  }
 },
 "nbformat": 4,
 "nbformat_minor": 5
}
